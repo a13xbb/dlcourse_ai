{
 "cells": [
  {
   "cell_type": "markdown",
   "metadata": {},
   "source": [
    "# Задание 1.2 - Линейный классификатор (Linear classifier)\n",
    "\n",
    "В этом задании мы реализуем другую модель машинного обучения - линейный классификатор. Линейный классификатор подбирает для каждого класса веса, на которые нужно умножить значение каждого признака и потом сложить вместе.\n",
    "Тот класс, у которого эта сумма больше, и является предсказанием модели.\n",
    "\n",
    "В этом задании вы:\n",
    "- потренируетесь считать градиенты различных многомерных функций\n",
    "- реализуете подсчет градиентов через линейную модель и функцию потерь softmax\n",
    "- реализуете процесс тренировки линейного классификатора\n",
    "- подберете параметры тренировки на практике\n",
    "\n",
    "На всякий случай, еще раз ссылка на туториал по numpy:  \n",
    "http://cs231n.github.io/python-numpy-tutorial/"
   ]
  },
  {
   "cell_type": "code",
   "execution_count": 4,
   "metadata": {},
   "outputs": [
    {
     "name": "stdout",
     "output_type": "stream",
     "text": [
      "The autoreload extension is already loaded. To reload it, use:\n",
      "  %reload_ext autoreload\n"
     ]
    }
   ],
   "source": [
    "import numpy as np\n",
    "import pandas as pd\n",
    "import matplotlib.pyplot as plt\n",
    "\n",
    "%matplotlib inline\n",
    "\n",
    "%load_ext autoreload\n",
    "%autoreload 2"
   ]
  },
  {
   "cell_type": "code",
   "execution_count": 2,
   "metadata": {},
   "outputs": [],
   "source": [
    "from dataset import load_svhn, random_split_train_val\n",
    "from gradient_check import check_gradient\n",
    "from metrics import multiclass_accuracy \n",
    "import linear_classifer"
   ]
  },
  {
   "cell_type": "markdown",
   "metadata": {},
   "source": [
    "# Как всегда, первым делом загружаем данные\n",
    "\n",
    "Мы будем использовать все тот же SVHN."
   ]
  },
  {
   "cell_type": "code",
   "execution_count": 3,
   "metadata": {},
   "outputs": [],
   "source": [
    "def prepare_for_linear_classifier(train_X, test_X):\n",
    "    train_flat = train_X.reshape(train_X.shape[0], -1).astype(float) / 255.0\n",
    "    test_flat = test_X.reshape(test_X.shape[0], -1).astype(float) / 255.0\n",
    "    \n",
    "    # Subtract mean\n",
    "    mean_image = np.mean(train_flat, axis = 0)\n",
    "    train_flat -= mean_image\n",
    "    test_flat -= mean_image\n",
    "    \n",
    "    # Add another channel with ones as a bias term\n",
    "    train_flat_with_ones = np.hstack([train_flat, np.ones((train_X.shape[0], 1))])\n",
    "    test_flat_with_ones = np.hstack([test_flat, np.ones((test_X.shape[0], 1))])    \n",
    "    return train_flat_with_ones, test_flat_with_ones\n",
    "    \n",
    "train_X, train_y, test_X, test_y = load_svhn(\"data\", max_train=10000, max_test=1000)    \n",
    "train_X, test_X = prepare_for_linear_classifier(train_X, test_X)\n",
    "# Split train into train and val\n",
    "train_X, train_y, val_X, val_y = random_split_train_val(train_X, train_y, num_val = 1000)"
   ]
  },
  {
   "cell_type": "code",
   "execution_count": 5,
   "metadata": {},
   "outputs": [
    {
     "data": {
      "text/html": [
       "<div>\n",
       "<style scoped>\n",
       "    .dataframe tbody tr th:only-of-type {\n",
       "        vertical-align: middle;\n",
       "    }\n",
       "\n",
       "    .dataframe tbody tr th {\n",
       "        vertical-align: top;\n",
       "    }\n",
       "\n",
       "    .dataframe thead th {\n",
       "        text-align: right;\n",
       "    }\n",
       "</style>\n",
       "<table border=\"1\" class=\"dataframe\">\n",
       "  <thead>\n",
       "    <tr style=\"text-align: right;\">\n",
       "      <th></th>\n",
       "      <th>0</th>\n",
       "      <th>1</th>\n",
       "      <th>2</th>\n",
       "      <th>3</th>\n",
       "      <th>4</th>\n",
       "      <th>5</th>\n",
       "      <th>6</th>\n",
       "      <th>7</th>\n",
       "      <th>8</th>\n",
       "      <th>9</th>\n",
       "      <th>...</th>\n",
       "      <th>3064</th>\n",
       "      <th>3065</th>\n",
       "      <th>3066</th>\n",
       "      <th>3067</th>\n",
       "      <th>3068</th>\n",
       "      <th>3069</th>\n",
       "      <th>3070</th>\n",
       "      <th>3071</th>\n",
       "      <th>3072</th>\n",
       "      <th>y</th>\n",
       "    </tr>\n",
       "  </thead>\n",
       "  <tbody>\n",
       "    <tr>\n",
       "      <th>0</th>\n",
       "      <td>-0.089754</td>\n",
       "      <td>-0.035684</td>\n",
       "      <td>0.089948</td>\n",
       "      <td>-0.093667</td>\n",
       "      <td>-0.040285</td>\n",
       "      <td>0.084531</td>\n",
       "      <td>-0.097578</td>\n",
       "      <td>-0.049002</td>\n",
       "      <td>0.074858</td>\n",
       "      <td>-0.109567</td>\n",
       "      <td>...</td>\n",
       "      <td>-0.046039</td>\n",
       "      <td>0.084531</td>\n",
       "      <td>-0.120953</td>\n",
       "      <td>-0.035040</td>\n",
       "      <td>0.100906</td>\n",
       "      <td>-0.126547</td>\n",
       "      <td>-0.039985</td>\n",
       "      <td>0.097104</td>\n",
       "      <td>1.0</td>\n",
       "      <td>9</td>\n",
       "    </tr>\n",
       "    <tr>\n",
       "      <th>1</th>\n",
       "      <td>0.016129</td>\n",
       "      <td>0.019218</td>\n",
       "      <td>0.054654</td>\n",
       "      <td>0.012215</td>\n",
       "      <td>0.010696</td>\n",
       "      <td>0.049236</td>\n",
       "      <td>0.000461</td>\n",
       "      <td>-0.001943</td>\n",
       "      <td>0.039564</td>\n",
       "      <td>-0.027214</td>\n",
       "      <td>...</td>\n",
       "      <td>-0.081333</td>\n",
       "      <td>-0.056645</td>\n",
       "      <td>-0.128796</td>\n",
       "      <td>-0.113472</td>\n",
       "      <td>-0.087329</td>\n",
       "      <td>-0.150077</td>\n",
       "      <td>-0.134103</td>\n",
       "      <td>-0.106818</td>\n",
       "      <td>1.0</td>\n",
       "      <td>9</td>\n",
       "    </tr>\n",
       "    <tr>\n",
       "      <th>2</th>\n",
       "      <td>-0.254460</td>\n",
       "      <td>-0.329802</td>\n",
       "      <td>-0.368875</td>\n",
       "      <td>-0.254452</td>\n",
       "      <td>-0.330481</td>\n",
       "      <td>-0.370371</td>\n",
       "      <td>-0.254441</td>\n",
       "      <td>-0.331355</td>\n",
       "      <td>-0.372201</td>\n",
       "      <td>-0.254665</td>\n",
       "      <td>...</td>\n",
       "      <td>-0.265647</td>\n",
       "      <td>-0.280175</td>\n",
       "      <td>-0.187619</td>\n",
       "      <td>-0.235040</td>\n",
       "      <td>-0.252035</td>\n",
       "      <td>-0.169685</td>\n",
       "      <td>-0.204691</td>\n",
       "      <td>-0.232308</td>\n",
       "      <td>1.0</td>\n",
       "      <td>2</td>\n",
       "    </tr>\n",
       "    <tr>\n",
       "      <th>3</th>\n",
       "      <td>0.114168</td>\n",
       "      <td>0.160394</td>\n",
       "      <td>0.089948</td>\n",
       "      <td>0.212215</td>\n",
       "      <td>0.253833</td>\n",
       "      <td>0.174727</td>\n",
       "      <td>0.063206</td>\n",
       "      <td>0.052959</td>\n",
       "      <td>0.027799</td>\n",
       "      <td>-0.125253</td>\n",
       "      <td>...</td>\n",
       "      <td>0.232392</td>\n",
       "      <td>0.194335</td>\n",
       "      <td>0.181008</td>\n",
       "      <td>0.227705</td>\n",
       "      <td>0.191102</td>\n",
       "      <td>0.183256</td>\n",
       "      <td>0.230603</td>\n",
       "      <td>0.199065</td>\n",
       "      <td>1.0</td>\n",
       "      <td>1</td>\n",
       "    </tr>\n",
       "    <tr>\n",
       "      <th>4</th>\n",
       "      <td>0.125933</td>\n",
       "      <td>0.132943</td>\n",
       "      <td>0.066419</td>\n",
       "      <td>0.118097</td>\n",
       "      <td>0.124421</td>\n",
       "      <td>0.057080</td>\n",
       "      <td>0.118108</td>\n",
       "      <td>0.123547</td>\n",
       "      <td>0.055250</td>\n",
       "      <td>0.117884</td>\n",
       "      <td>...</td>\n",
       "      <td>0.130431</td>\n",
       "      <td>0.088453</td>\n",
       "      <td>0.133949</td>\n",
       "      <td>0.133587</td>\n",
       "      <td>0.081298</td>\n",
       "      <td>0.124433</td>\n",
       "      <td>0.124720</td>\n",
       "      <td>0.077496</td>\n",
       "      <td>1.0</td>\n",
       "      <td>7</td>\n",
       "    </tr>\n",
       "    <tr>\n",
       "      <th>...</th>\n",
       "      <td>...</td>\n",
       "      <td>...</td>\n",
       "      <td>...</td>\n",
       "      <td>...</td>\n",
       "      <td>...</td>\n",
       "      <td>...</td>\n",
       "      <td>...</td>\n",
       "      <td>...</td>\n",
       "      <td>...</td>\n",
       "      <td>...</td>\n",
       "      <td>...</td>\n",
       "      <td>...</td>\n",
       "      <td>...</td>\n",
       "      <td>...</td>\n",
       "      <td>...</td>\n",
       "      <td>...</td>\n",
       "      <td>...</td>\n",
       "      <td>...</td>\n",
       "      <td>...</td>\n",
       "      <td>...</td>\n",
       "      <td>...</td>\n",
       "    </tr>\n",
       "    <tr>\n",
       "      <th>8995</th>\n",
       "      <td>-0.250538</td>\n",
       "      <td>-0.172939</td>\n",
       "      <td>-0.235542</td>\n",
       "      <td>-0.270138</td>\n",
       "      <td>-0.173618</td>\n",
       "      <td>-0.237038</td>\n",
       "      <td>-0.281892</td>\n",
       "      <td>-0.166649</td>\n",
       "      <td>-0.234946</td>\n",
       "      <td>-0.266429</td>\n",
       "      <td>...</td>\n",
       "      <td>0.036314</td>\n",
       "      <td>0.002178</td>\n",
       "      <td>-0.050364</td>\n",
       "      <td>0.047313</td>\n",
       "      <td>0.014632</td>\n",
       "      <td>-0.044195</td>\n",
       "      <td>0.058054</td>\n",
       "      <td>0.030437</td>\n",
       "      <td>1.0</td>\n",
       "      <td>1</td>\n",
       "    </tr>\n",
       "    <tr>\n",
       "      <th>8996</th>\n",
       "      <td>0.184756</td>\n",
       "      <td>0.191767</td>\n",
       "      <td>0.180144</td>\n",
       "      <td>0.172999</td>\n",
       "      <td>0.179323</td>\n",
       "      <td>0.166884</td>\n",
       "      <td>0.165167</td>\n",
       "      <td>0.166684</td>\n",
       "      <td>0.161133</td>\n",
       "      <td>0.180629</td>\n",
       "      <td>...</td>\n",
       "      <td>0.040235</td>\n",
       "      <td>0.029629</td>\n",
       "      <td>0.075126</td>\n",
       "      <td>0.066920</td>\n",
       "      <td>0.065612</td>\n",
       "      <td>0.089139</td>\n",
       "      <td>0.085505</td>\n",
       "      <td>0.089261</td>\n",
       "      <td>1.0</td>\n",
       "      <td>7</td>\n",
       "    </tr>\n",
       "    <tr>\n",
       "      <th>8997</th>\n",
       "      <td>0.380835</td>\n",
       "      <td>0.368237</td>\n",
       "      <td>0.360536</td>\n",
       "      <td>0.420058</td>\n",
       "      <td>0.414617</td>\n",
       "      <td>0.398256</td>\n",
       "      <td>0.451441</td>\n",
       "      <td>0.452959</td>\n",
       "      <td>0.431721</td>\n",
       "      <td>0.427688</td>\n",
       "      <td>...</td>\n",
       "      <td>0.224549</td>\n",
       "      <td>0.210021</td>\n",
       "      <td>0.216302</td>\n",
       "      <td>0.231626</td>\n",
       "      <td>0.218553</td>\n",
       "      <td>0.214629</td>\n",
       "      <td>0.230603</td>\n",
       "      <td>0.218673</td>\n",
       "      <td>1.0</td>\n",
       "      <td>4</td>\n",
       "    </tr>\n",
       "    <tr>\n",
       "      <th>8998</th>\n",
       "      <td>-0.242695</td>\n",
       "      <td>-0.223920</td>\n",
       "      <td>-0.129660</td>\n",
       "      <td>-0.242687</td>\n",
       "      <td>-0.220677</td>\n",
       "      <td>-0.123313</td>\n",
       "      <td>-0.242676</td>\n",
       "      <td>-0.221551</td>\n",
       "      <td>-0.125142</td>\n",
       "      <td>-0.250743</td>\n",
       "      <td>...</td>\n",
       "      <td>-0.163686</td>\n",
       "      <td>-0.154685</td>\n",
       "      <td>-0.132717</td>\n",
       "      <td>-0.156609</td>\n",
       "      <td>-0.146153</td>\n",
       "      <td>-0.114783</td>\n",
       "      <td>-0.141946</td>\n",
       "      <td>-0.130347</td>\n",
       "      <td>1.0</td>\n",
       "      <td>2</td>\n",
       "    </tr>\n",
       "    <tr>\n",
       "      <th>8999</th>\n",
       "      <td>0.012207</td>\n",
       "      <td>0.027061</td>\n",
       "      <td>0.187987</td>\n",
       "      <td>0.251431</td>\n",
       "      <td>0.273441</td>\n",
       "      <td>0.351197</td>\n",
       "      <td>0.329873</td>\n",
       "      <td>0.362763</td>\n",
       "      <td>0.365054</td>\n",
       "      <td>0.321806</td>\n",
       "      <td>...</td>\n",
       "      <td>0.044157</td>\n",
       "      <td>0.092374</td>\n",
       "      <td>-0.018992</td>\n",
       "      <td>-0.038962</td>\n",
       "      <td>0.010710</td>\n",
       "      <td>0.093060</td>\n",
       "      <td>0.069818</td>\n",
       "      <td>0.108869</td>\n",
       "      <td>1.0</td>\n",
       "      <td>7</td>\n",
       "    </tr>\n",
       "  </tbody>\n",
       "</table>\n",
       "<p>9000 rows × 3074 columns</p>\n",
       "</div>"
      ],
      "text/plain": [
       "             0         1         2         3         4         5         6  \\\n",
       "0    -0.089754 -0.035684  0.089948 -0.093667 -0.040285  0.084531 -0.097578   \n",
       "1     0.016129  0.019218  0.054654  0.012215  0.010696  0.049236  0.000461   \n",
       "2    -0.254460 -0.329802 -0.368875 -0.254452 -0.330481 -0.370371 -0.254441   \n",
       "3     0.114168  0.160394  0.089948  0.212215  0.253833  0.174727  0.063206   \n",
       "4     0.125933  0.132943  0.066419  0.118097  0.124421  0.057080  0.118108   \n",
       "...        ...       ...       ...       ...       ...       ...       ...   \n",
       "8995 -0.250538 -0.172939 -0.235542 -0.270138 -0.173618 -0.237038 -0.281892   \n",
       "8996  0.184756  0.191767  0.180144  0.172999  0.179323  0.166884  0.165167   \n",
       "8997  0.380835  0.368237  0.360536  0.420058  0.414617  0.398256  0.451441   \n",
       "8998 -0.242695 -0.223920 -0.129660 -0.242687 -0.220677 -0.123313 -0.242676   \n",
       "8999  0.012207  0.027061  0.187987  0.251431  0.273441  0.351197  0.329873   \n",
       "\n",
       "             7         8         9  ...      3064      3065      3066  \\\n",
       "0    -0.049002  0.074858 -0.109567  ... -0.046039  0.084531 -0.120953   \n",
       "1    -0.001943  0.039564 -0.027214  ... -0.081333 -0.056645 -0.128796   \n",
       "2    -0.331355 -0.372201 -0.254665  ... -0.265647 -0.280175 -0.187619   \n",
       "3     0.052959  0.027799 -0.125253  ...  0.232392  0.194335  0.181008   \n",
       "4     0.123547  0.055250  0.117884  ...  0.130431  0.088453  0.133949   \n",
       "...        ...       ...       ...  ...       ...       ...       ...   \n",
       "8995 -0.166649 -0.234946 -0.266429  ...  0.036314  0.002178 -0.050364   \n",
       "8996  0.166684  0.161133  0.180629  ...  0.040235  0.029629  0.075126   \n",
       "8997  0.452959  0.431721  0.427688  ...  0.224549  0.210021  0.216302   \n",
       "8998 -0.221551 -0.125142 -0.250743  ... -0.163686 -0.154685 -0.132717   \n",
       "8999  0.362763  0.365054  0.321806  ...  0.044157  0.092374 -0.018992   \n",
       "\n",
       "          3067      3068      3069      3070      3071  3072  y  \n",
       "0    -0.035040  0.100906 -0.126547 -0.039985  0.097104   1.0  9  \n",
       "1    -0.113472 -0.087329 -0.150077 -0.134103 -0.106818   1.0  9  \n",
       "2    -0.235040 -0.252035 -0.169685 -0.204691 -0.232308   1.0  2  \n",
       "3     0.227705  0.191102  0.183256  0.230603  0.199065   1.0  1  \n",
       "4     0.133587  0.081298  0.124433  0.124720  0.077496   1.0  7  \n",
       "...        ...       ...       ...       ...       ...   ... ..  \n",
       "8995  0.047313  0.014632 -0.044195  0.058054  0.030437   1.0  1  \n",
       "8996  0.066920  0.065612  0.089139  0.085505  0.089261   1.0  7  \n",
       "8997  0.231626  0.218553  0.214629  0.230603  0.218673   1.0  4  \n",
       "8998 -0.156609 -0.146153 -0.114783 -0.141946 -0.130347   1.0  2  \n",
       "8999 -0.038962  0.010710  0.093060  0.069818  0.108869   1.0  7  \n",
       "\n",
       "[9000 rows x 3074 columns]"
      ]
     },
     "execution_count": 5,
     "metadata": {},
     "output_type": "execute_result"
    }
   ],
   "source": [
    "train_df = pd.DataFrame(train_X)\n",
    "train_df['y'] = train_y\n",
    "train_df"
   ]
  },
  {
   "cell_type": "markdown",
   "metadata": {},
   "source": [
    "# Играемся с градиентами!\n",
    "\n",
    "В этом курсе мы будем писать много функций, которые вычисляют градиенты аналитическим методом.\n",
    "\n",
    "Все функции, в которых мы будем вычислять градиенты, будут написаны по одной и той же схеме.  \n",
    "Они будут получать на вход точку, где нужно вычислить значение и градиент функции, а на выходе будут выдавать кортеж (tuple) из двух значений - собственно значения функции в этой точке (всегда одно число) и аналитического значения градиента в той же точке (той же размерности, что и вход).\n",
    "```\n",
    "def f(x):\n",
    "    \"\"\"\n",
    "    Computes function and analytic gradient at x\n",
    "    \n",
    "    x: np array of float, input to the function\n",
    "    \n",
    "    Returns:\n",
    "    value: float, value of the function \n",
    "    grad: np array of float, same shape as x\n",
    "    \"\"\"\n",
    "    ...\n",
    "    \n",
    "    return value, grad\n",
    "```\n",
    "\n",
    "Необходимым инструментом во время реализации кода, вычисляющего градиенты, является функция его проверки. Эта функция вычисляет градиент численным методом и сверяет результат с градиентом, вычисленным аналитическим методом.\n",
    "\n",
    "Мы начнем с того, чтобы реализовать вычисление численного градиента (numeric gradient) в функции `check_gradient` в `gradient_check.py`. Эта функция будет принимать на вход функции формата, заданного выше, использовать значение `value` для вычисления численного градиента и сравнит его с аналитическим - они должны сходиться.\n",
    "\n",
    "Напишите часть функции, которая вычисляет градиент с помощью численной производной для каждой координаты. Для вычисления производной используйте так называемую two-point formula (https://en.wikipedia.org/wiki/Numerical_differentiation):\n",
    "\n",
    "![image](https://wikimedia.org/api/rest_v1/media/math/render/svg/22fc2c0a66c63560a349604f8b6b39221566236d)\n",
    "\n",
    "Все функции приведенные в следующей клетке должны проходить gradient check."
   ]
  },
  {
   "cell_type": "code",
   "execution_count": 105,
   "metadata": {
    "scrolled": true
   },
   "outputs": [
    {
     "name": "stdout",
     "output_type": "stream",
     "text": [
      "Gradient check passed!\n",
      "Gradient check passed!\n",
      "Gradient check passed!\n"
     ]
    },
    {
     "data": {
      "text/plain": [
       "True"
      ]
     },
     "execution_count": 105,
     "metadata": {},
     "output_type": "execute_result"
    }
   ],
   "source": [
    "# TODO: Implement check_gradient function in gradient_check.py\n",
    "# All the functions below should pass the gradient check\n",
    "\n",
    "def square(x):\n",
    "    return float(x*x), 2*x\n",
    "\n",
    "check_gradient(square, np.array([3.0]))\n",
    "\n",
    "def array_sum(x):\n",
    "    assert x.shape == (2,), x.shape\n",
    "    return np.sum(x), np.ones_like(x)\n",
    "\n",
    "check_gradient(array_sum, np.array([3.0, 2.0]))\n",
    "\n",
    "def array_2d_sum(x):\n",
    "    assert x.shape == (2,2)\n",
    "    return np.sum(x), np.ones_like(x)\n",
    "\n",
    "check_gradient(array_2d_sum, np.array([[3.0, 2.0], [1.0, 0.0]]))"
   ]
  },
  {
   "cell_type": "markdown",
   "metadata": {},
   "source": [
    "## Начинаем писать свои функции, считающие аналитический градиент\n",
    "\n",
    "Теперь реализуем функцию softmax, которая получает на вход оценки для каждого класса и преобразует их в вероятности от 0 до 1:\n",
    "![image](https://wikimedia.org/api/rest_v1/media/math/render/svg/e348290cf48ddbb6e9a6ef4e39363568b67c09d3)\n",
    "\n",
    "**Важно:** Практический аспект вычисления этой функции заключается в том, что в ней учавствует вычисление экспоненты от потенциально очень больших чисел - это может привести к очень большим значениям в числителе и знаменателе за пределами диапазона float.\n",
    "\n",
    "К счастью, у этой проблемы есть простое решение -- перед вычислением softmax вычесть из всех оценок максимальное значение среди всех оценок:\n",
    "```\n",
    "predictions -= np.max(predictions)\n",
    "```\n",
    "(подробнее здесь - http://cs231n.github.io/linear-classify/#softmax, секция `Practical issues: Numeric stability`)"
   ]
  },
  {
   "cell_type": "code",
   "execution_count": 74,
   "metadata": {},
   "outputs": [
    {
     "name": "stdout",
     "output_type": "stream",
     "text": [
      "[[  0 -10  -5]\n",
      " [  0 -11  -5]\n",
      " [ -2  -1   0]]\n",
      "[[-15]\n",
      " [-16]\n",
      " [ -3]]\n"
     ]
    },
    {
     "data": {
      "text/plain": [
       "array([[-0.        ,  0.66666667,  0.33333333],\n",
       "       [-0.        ,  0.6875    ,  0.3125    ],\n",
       "       [ 0.66666667,  0.33333333, -0.        ]])"
      ]
     },
     "execution_count": 74,
     "metadata": {},
     "output_type": "execute_result"
    }
   ],
   "source": [
    "# preds = np.array([[10, 0, 5],\n",
    "#                   [11, 0, 6],\n",
    "#                   [1, 2, 3]])\n",
    "\n",
    "# preds -= np.max(preds, axis=-1)[..., None]\n",
    "# print(preds)\n",
    "# denominator = np.sum(preds, axis=-1)[..., None]\n",
    "# print(denominator)\n",
    "# preds / denominator"
   ]
  },
  {
   "cell_type": "code",
   "execution_count": 106,
   "metadata": {},
   "outputs": [],
   "source": [
    "# TODO Implement softmax and cross-entropy for single sample\n",
    "probs = linear_classifer.softmax(np.array([-10, 0, 10]))\n",
    "\n",
    "# Make sure it works for big numbers too!\n",
    "probs = linear_classifer.softmax(np.array([1000, 0, 0]))\n",
    "assert np.isclose(probs[0], 1.0)"
   ]
  },
  {
   "cell_type": "markdown",
   "metadata": {},
   "source": [
    "Кроме этого, мы реализуем cross-entropy loss, которую мы будем использовать как функцию ошибки (error function).\n",
    "В общем виде cross-entropy определена следующим образом:\n",
    "![image](https://wikimedia.org/api/rest_v1/media/math/render/svg/0cb6da032ab424eefdca0884cd4113fe578f4293)\n",
    "\n",
    "где x - все классы, p(x) - истинная вероятность принадлежности сэмпла классу x, а q(x) - вероятность принадлежности классу x, предсказанная моделью.  \n",
    "В нашем случае сэмпл принадлежит только одному классу, индекс которого передается функции. Для него p(x) равна 1, а для остальных классов - 0. \n",
    "\n",
    "Это позволяет реализовать функцию проще!"
   ]
  },
  {
   "cell_type": "code",
   "execution_count": 107,
   "metadata": {},
   "outputs": [
    {
     "data": {
      "text/plain": [
       "5.006760443547122"
      ]
     },
     "execution_count": 107,
     "metadata": {},
     "output_type": "execute_result"
    }
   ],
   "source": [
    "probs = linear_classifer.softmax(np.array([-5, 0, 5]))\n",
    "linear_classifer.cross_entropy_loss(probs, 1)"
   ]
  },
  {
   "cell_type": "markdown",
   "metadata": {},
   "source": [
    "После того как мы реализовали сами функции, мы можем реализовать градиент.\n",
    "\n",
    "Оказывается, что вычисление градиента становится гораздо проще, если объединить эти функции в одну, которая сначала вычисляет вероятности через softmax, а потом использует их для вычисления функции ошибки через cross-entropy loss.\n",
    "\n",
    "Эта функция `softmax_with_cross_entropy` будет возвращает и значение ошибки, и градиент по входным параметрам. Мы проверим корректность реализации с помощью `check_gradient`."
   ]
  },
  {
   "cell_type": "code",
   "execution_count": 108,
   "metadata": {},
   "outputs": [
    {
     "name": "stdout",
     "output_type": "stream",
     "text": [
      "Gradient check passed!\n"
     ]
    },
    {
     "data": {
      "text/plain": [
       "True"
      ]
     },
     "execution_count": 108,
     "metadata": {},
     "output_type": "execute_result"
    }
   ],
   "source": [
    "# TODO Implement combined function or softmax and cross entropy and produces gradient\n",
    "loss, grad = linear_classifer.softmax_with_cross_entropy(np.array([1, 0, 0]), 1)\n",
    "check_gradient(lambda x: linear_classifer.softmax_with_cross_entropy(x, 1), np.array([1, 0, 0], float))"
   ]
  },
  {
   "cell_type": "markdown",
   "metadata": {},
   "source": [
    "В качестве метода тренировки мы будем использовать стохастический градиентный спуск (stochastic gradient descent или SGD), который работает с батчами сэмплов. \n",
    "\n",
    "Поэтому все наши фукнции будут получать не один пример, а батч, то есть входом будет не вектор из `num_classes` оценок, а матрица размерности `batch_size, num_classes`. Индекс примера в батче всегда будет первым измерением.\n",
    "\n",
    "Следующий шаг - переписать наши функции так, чтобы они поддерживали батчи.\n",
    "\n",
    "Финальное значение функции ошибки должно остаться числом, и оно равно среднему значению ошибки среди всех примеров в батче."
   ]
  },
  {
   "cell_type": "code",
   "execution_count": 110,
   "metadata": {
    "scrolled": false
   },
   "outputs": [
    {
     "name": "stdout",
     "output_type": "stream",
     "text": [
      "Gradient check passed!\n",
      "Gradient check passed!\n"
     ]
    }
   ],
   "source": [
    "# TODO Extend combined function so it can receive a 2d array with batch of samples\n",
    "np.random.seed(42)\n",
    "# Test batch_size = 1\n",
    "num_classes = 4\n",
    "batch_size = 1\n",
    "predictions = np.random.randint(-1, 3, size=(batch_size, num_classes)).astype(float)\n",
    "target_index = np.random.randint(0, num_classes, size=(batch_size, 1)).astype(int)\n",
    "check_gradient(lambda x: linear_classifer.softmax_with_cross_entropy(x, target_index), predictions)\n",
    "\n",
    "# Test batch_size = 3\n",
    "num_classes = 4\n",
    "batch_size = 3\n",
    "predictions = np.random.randint(-1, 3, size=(batch_size, num_classes)).astype(float)\n",
    "target_index = np.random.randint(0, num_classes, size=(batch_size, 1)).astype(int)\n",
    "check_gradient(lambda x: linear_classifer.softmax_with_cross_entropy(x, target_index), predictions)\n",
    "\n",
    "# Make sure maximum subtraction for numberic stability is done separately for every sample in the batch\n",
    "probs = linear_classifer.softmax(np.array([[20,0,0], [1000, 0, 0]]))\n",
    "assert np.all(np.isclose(probs[:, 0], 1.0))"
   ]
  },
  {
   "cell_type": "markdown",
   "metadata": {},
   "source": [
    "### Наконец, реализуем сам линейный классификатор!\n",
    "\n",
    "softmax и cross-entropy получают на вход оценки, которые выдает линейный классификатор.\n",
    "\n",
    "Он делает это очень просто: для каждого класса есть набор весов, на которые надо умножить пиксели картинки и сложить. Получившееся число и является оценкой класса, идущей на вход softmax.\n",
    "\n",
    "Таким образом, линейный классификатор можно представить как умножение вектора с пикселями на матрицу W размера `num_features, num_classes`. Такой подход легко расширяется на случай батча векторов с пикселями X размера `batch_size, num_features`:\n",
    "\n",
    "`predictions = X * W`, где `*` - матричное умножение.\n",
    "\n",
    "Реализуйте функцию подсчета линейного классификатора и градиентов по весам `linear_softmax` в файле `linear_classifer.py`"
   ]
  },
  {
   "cell_type": "code",
   "execution_count": 118,
   "metadata": {},
   "outputs": [
    {
     "name": "stdout",
     "output_type": "stream",
     "text": [
      "Gradient check passed!\n"
     ]
    },
    {
     "data": {
      "text/plain": [
       "True"
      ]
     },
     "execution_count": 118,
     "metadata": {},
     "output_type": "execute_result"
    }
   ],
   "source": [
    "# TODO Implement linear_softmax function that uses softmax with cross-entropy for linear classifier\n",
    "batch_size = 2\n",
    "num_classes = 2\n",
    "num_features = 3\n",
    "np.random.seed(42)\n",
    "W = np.random.randint(-1, 3, size=(num_features, num_classes)).astype(float)\n",
    "X = np.random.randint(-1, 3, size=(batch_size, num_features)).astype(float)\n",
    "target_index = np.ones(batch_size, dtype=int)\n",
    "\n",
    "loss, dW = linear_classifer.linear_softmax(X, W, target_index)\n",
    "check_gradient(lambda w: linear_classifer.linear_softmax(X, w, target_index), W)"
   ]
  },
  {
   "cell_type": "markdown",
   "metadata": {},
   "source": [
    "### И теперь регуляризация\n",
    "\n",
    "Мы будем использовать L2 regularization для весов как часть общей функции ошибки.\n",
    "\n",
    "Напомним, L2 regularization определяется как\n",
    "\n",
    "l2_reg_loss = regularization_strength * sum<sub>ij</sub> W[i, j]<sup>2</sup>\n",
    "\n",
    "Реализуйте функцию для его вычисления и вычисления соотвествующих градиентов."
   ]
  },
  {
   "cell_type": "code",
   "execution_count": 122,
   "metadata": {},
   "outputs": [
    {
     "name": "stdout",
     "output_type": "stream",
     "text": [
      "Gradient check passed!\n"
     ]
    },
    {
     "data": {
      "text/plain": [
       "True"
      ]
     },
     "execution_count": 122,
     "metadata": {},
     "output_type": "execute_result"
    }
   ],
   "source": [
    "# TODO Implement l2_regularization function that implements loss for L2 regularization\n",
    "linear_classifer.l2_regularization(W, 0.01)\n",
    "check_gradient(lambda w: linear_classifer.l2_regularization(w, 0.01), W)"
   ]
  },
  {
   "cell_type": "markdown",
   "metadata": {},
   "source": [
    "# Тренировка!"
   ]
  },
  {
   "cell_type": "markdown",
   "metadata": {},
   "source": [
    "Градиенты в порядке, реализуем процесс тренировки!"
   ]
  },
  {
   "cell_type": "code",
   "execution_count": 150,
   "metadata": {
    "scrolled": false
   },
   "outputs": [
    {
     "name": "stdout",
     "output_type": "stream",
     "text": [
      "Epoch 0, loss: 82.530609\n",
      "Epoch 1, loss: 89.268281\n",
      "Epoch 2, loss: 86.261790\n",
      "Epoch 3, loss: 80.517171\n",
      "Epoch 4, loss: 84.441692\n",
      "Epoch 5, loss: 82.701363\n",
      "Epoch 6, loss: 80.453971\n",
      "Epoch 7, loss: 85.065395\n",
      "Epoch 8, loss: 83.985147\n",
      "Epoch 9, loss: 87.921253\n"
     ]
    }
   ],
   "source": [
    "# TODO: Implement LinearSoftmaxClassifier.fit function\n",
    "classifier = linear_classifer.LinearSoftmaxClassifier()\n",
    "loss_history = classifier.fit(train_X, train_y, epochs=10, learning_rate=0.001, batch_size=300, reg=0.001)"
   ]
  },
  {
   "cell_type": "code",
   "execution_count": 151,
   "metadata": {},
   "outputs": [
    {
     "data": {
      "text/plain": [
       "[<matplotlib.lines.Line2D at 0x7f1193181c10>]"
      ]
     },
     "execution_count": 151,
     "metadata": {},
     "output_type": "execute_result"
    },
    {
     "data": {
      "image/png": "[encoded data removed]",
      "text/plain": [
       "<Figure size 640x480 with 1 Axes>"
      ]
     },
     "metadata": {},
     "output_type": "display_data"
    }
   ],
   "source": [
    "# let's look at the loss history!\n",
    "plt.plot(loss_history)"
   ]
  },
  {
   "cell_type": "code",
   "execution_count": 153,
   "metadata": {},
   "outputs": [
    {
     "name": "stdout",
     "output_type": "stream",
     "text": [
      "Accuracy:  0.189\n",
      "Epoch 0, loss: 87.661245\n",
      "Epoch 10, loss: 89.801733\n",
      "Epoch 20, loss: 86.950352\n",
      "Epoch 30, loss: 90.190402\n",
      "Epoch 40, loss: 86.208589\n",
      "Epoch 50, loss: 89.484593\n",
      "Epoch 60, loss: 90.972414\n",
      "Epoch 70, loss: 86.814674\n",
      "Epoch 80, loss: 88.365122\n",
      "Epoch 90, loss: 84.533032\n",
      "Accuracy after training for 1000 epochs:  0.159\n"
     ]
    }
   ],
   "source": [
    "# Let's check how it performs on validation set\n",
    "pred = classifier.predict(val_X)\n",
    "accuracy = multiclass_accuracy(pred, val_y)\n",
    "print(\"Accuracy: \", accuracy)\n",
    "\n",
    "# Now, let's train more and see if it performs better\n",
    "classifier.fit(train_X, train_y, epochs=100, learning_rate=1e-3, batch_size=300, reg=1e1)\n",
    "pred = classifier.predict(val_X)\n",
    "accuracy = multiclass_accuracy(pred, val_y)\n",
    "print(\"Accuracy after training for 1000 epochs: \", accuracy)"
   ]
  },
  {
   "cell_type": "markdown",
   "metadata": {},
   "source": [
    "### Как и раньше, используем кросс-валидацию для подбора гиперпараметтов.\n",
    "\n",
    "В этот раз, чтобы тренировка занимала разумное время, мы будем использовать только одно разделение на тренировочные (training) и проверочные (validation) данные.\n",
    "\n",
    "Теперь нам нужно подобрать не один, а два гиперпараметра! Не ограничивайте себя изначальными значениями в коде.  \n",
    "Добейтесь точности более чем **20%** на проверочных данных (validation data)."
   ]
  },
  {
   "cell_type": "code",
   "execution_count": 160,
   "metadata": {},
   "outputs": [
    {
     "name": "stdout",
     "output_type": "stream",
     "text": [
      "LR=0.001, REG=0.0001\n",
      "Epoch 10, loss: 83.983876\n",
      "Epoch 20, loss: 81.863251\n",
      "Epoch 30, loss: 86.123867\n",
      "Epoch 40, loss: 81.899523\n",
      "Epoch 50, loss: 77.732218\n",
      "Epoch 60, loss: 75.716447\n",
      "Epoch 70, loss: 78.282408\n",
      "Epoch 80, loss: 81.528457\n",
      "Epoch 90, loss: 82.204212\n",
      "Epoch 100, loss: 71.877113\n",
      "Epoch 110, loss: 76.661587\n",
      "Epoch 120, loss: 76.456842\n",
      "Epoch 130, loss: 71.773772\n",
      "Epoch 140, loss: 73.030013\n",
      "Epoch 150, loss: 74.371440\n",
      "Epoch 160, loss: 72.434901\n",
      "Epoch 170, loss: 72.518900\n",
      "Epoch 180, loss: 71.189721\n",
      "Epoch 190, loss: 71.615462\n",
      "Epoch 200, loss: 76.238169\n",
      "Val Accuracy: 0.21\n",
      "\n",
      "\n",
      "LR=0.001, REG=1e-05\n",
      "Epoch 10, loss: 83.198787\n",
      "Epoch 20, loss: 78.916223\n",
      "Epoch 30, loss: 79.455671\n",
      "Epoch 40, loss: 77.530992\n",
      "Epoch 50, loss: 76.307011\n",
      "Epoch 60, loss: 78.339838\n",
      "Epoch 70, loss: 75.122114\n",
      "Epoch 80, loss: 76.018421\n",
      "Epoch 90, loss: 79.510448\n",
      "Epoch 100, loss: 79.290129\n",
      "Epoch 110, loss: 81.211066\n",
      "Epoch 120, loss: 75.300544\n",
      "Epoch 130, loss: 71.495285\n",
      "Epoch 140, loss: 76.362785\n",
      "Epoch 150, loss: 76.282619\n",
      "Epoch 160, loss: 68.861837\n",
      "Epoch 170, loss: 72.790058\n",
      "Epoch 180, loss: 77.632627\n",
      "Epoch 190, loss: 74.321960\n",
      "Epoch 200, loss: 68.465259\n",
      "Val Accuracy: 0.219\n",
      "\n",
      "\n",
      "LR=0.001, REG=1e-06\n",
      "Epoch 10, loss: 79.723748\n",
      "Epoch 20, loss: 79.645597\n",
      "Epoch 30, loss: 77.196967\n",
      "Epoch 40, loss: 77.854711\n",
      "Epoch 50, loss: 79.385105\n",
      "Epoch 60, loss: 78.813492\n",
      "Epoch 70, loss: 79.582144\n",
      "Epoch 80, loss: 75.555805\n",
      "Epoch 90, loss: 76.083038\n",
      "Epoch 100, loss: 76.042749\n",
      "Epoch 110, loss: 73.001243\n",
      "Epoch 120, loss: 78.667169\n",
      "Epoch 130, loss: 78.281370\n",
      "Epoch 140, loss: 75.105166\n",
      "Epoch 150, loss: 74.175767\n",
      "Epoch 160, loss: 70.458289\n",
      "Epoch 170, loss: 70.610996\n",
      "Epoch 180, loss: 77.022212\n",
      "Epoch 190, loss: 75.373743\n",
      "Epoch 200, loss: 74.298840\n",
      "Val Accuracy: 0.217\n",
      "\n",
      "\n",
      "LR=0.0001, REG=0.0001\n",
      "Epoch 10, loss: 65.633159\n",
      "Epoch 20, loss: 64.579394\n",
      "Epoch 30, loss: 64.067205\n",
      "Epoch 40, loss: 63.693720\n",
      "Epoch 50, loss: 63.428474\n",
      "Epoch 60, loss: 63.223817\n",
      "Epoch 70, loss: 63.027335\n",
      "Epoch 80, loss: 62.886398\n",
      "Epoch 90, loss: 62.736886\n",
      "Epoch 100, loss: 62.596819\n",
      "Epoch 110, loss: 62.477909\n",
      "Epoch 120, loss: 62.384386\n",
      "Epoch 130, loss: 62.283146\n",
      "Epoch 140, loss: 62.191184\n",
      "Epoch 150, loss: 62.087023\n",
      "Epoch 160, loss: 61.999924\n",
      "Epoch 170, loss: 61.930208\n",
      "Epoch 180, loss: 61.862252\n",
      "Epoch 190, loss: 61.789608\n",
      "Epoch 200, loss: 61.726777\n",
      "Val Accuracy: 0.252\n",
      "\n",
      "\n",
      "LR=0.0001, REG=1e-05\n",
      "Epoch 10, loss: 65.608696\n",
      "Epoch 20, loss: 64.571570\n",
      "Epoch 30, loss: 64.056692\n",
      "Epoch 40, loss: 63.707713\n",
      "Epoch 50, loss: 63.431723\n",
      "Epoch 60, loss: 63.226531\n",
      "Epoch 70, loss: 63.017980\n",
      "Epoch 80, loss: 62.868794\n",
      "Epoch 90, loss: 62.720221\n",
      "Epoch 100, loss: 62.602914\n",
      "Epoch 110, loss: 62.476324\n",
      "Epoch 120, loss: 62.387802\n",
      "Epoch 130, loss: 62.293571\n",
      "Epoch 140, loss: 62.190605\n",
      "Epoch 150, loss: 62.108423\n",
      "Epoch 160, loss: 62.025529\n",
      "Epoch 170, loss: 61.938931\n",
      "Epoch 180, loss: 61.884607\n",
      "Epoch 190, loss: 61.787677\n",
      "Epoch 200, loss: 61.740538\n",
      "Val Accuracy: 0.25\n",
      "\n",
      "\n",
      "LR=0.0001, REG=1e-06\n",
      "Epoch 10, loss: 65.626508\n",
      "Epoch 20, loss: 64.577787\n",
      "Epoch 30, loss: 64.058290\n",
      "Epoch 40, loss: 63.691218\n",
      "Epoch 50, loss: 63.425642\n",
      "Epoch 60, loss: 63.217910\n",
      "Epoch 70, loss: 63.034593\n",
      "Epoch 80, loss: 62.872232\n",
      "Epoch 90, loss: 62.723682\n",
      "Epoch 100, loss: 62.606351\n",
      "Epoch 110, loss: 62.495458\n",
      "Epoch 120, loss: 62.387381\n",
      "Epoch 130, loss: 62.281161\n",
      "Epoch 140, loss: 62.181899\n",
      "Epoch 150, loss: 62.114678\n",
      "Epoch 160, loss: 62.019838\n",
      "Epoch 170, loss: 61.944793\n",
      "Epoch 180, loss: 61.864077\n",
      "Epoch 190, loss: 61.784948\n",
      "Epoch 200, loss: 61.728770\n",
      "Val Accuracy: 0.249\n",
      "\n",
      "\n",
      "LR=1e-05, REG=0.0001\n",
      "Epoch 10, loss: 68.381792\n",
      "Epoch 20, loss: 67.790067\n",
      "Epoch 30, loss: 67.302658\n",
      "Epoch 40, loss: 66.893723\n",
      "Epoch 50, loss: 66.547891\n",
      "Epoch 60, loss: 66.253395\n",
      "Epoch 70, loss: 66.000305\n",
      "Epoch 80, loss: 65.784239\n",
      "Epoch 90, loss: 65.594590\n",
      "Epoch 100, loss: 65.426964\n",
      "Epoch 110, loss: 65.279611\n",
      "Epoch 120, loss: 65.151117\n",
      "Epoch 130, loss: 65.031120\n",
      "Epoch 140, loss: 64.923928\n",
      "Epoch 150, loss: 64.826963\n",
      "Epoch 160, loss: 64.738238\n",
      "Epoch 170, loss: 64.655425\n",
      "Epoch 180, loss: 64.579272\n",
      "Epoch 190, loss: 64.507094\n",
      "Epoch 200, loss: 64.438865\n",
      "Val Accuracy: 0.229\n",
      "\n",
      "\n",
      "LR=1e-05, REG=1e-05\n",
      "Epoch 10, loss: 68.382323\n",
      "Epoch 20, loss: 67.791375\n",
      "Epoch 30, loss: 67.303499\n",
      "Epoch 40, loss: 66.892683\n",
      "Epoch 50, loss: 66.547246\n",
      "Epoch 60, loss: 66.252898\n",
      "Epoch 70, loss: 66.000988\n",
      "Epoch 80, loss: 65.782095\n",
      "Epoch 90, loss: 65.594180\n",
      "Epoch 100, loss: 65.427887\n",
      "Epoch 110, loss: 65.280809\n",
      "Epoch 120, loss: 65.150594\n",
      "Epoch 130, loss: 65.032601\n",
      "Epoch 140, loss: 64.924061\n",
      "Epoch 150, loss: 64.827089\n",
      "Epoch 160, loss: 64.737490\n",
      "Epoch 170, loss: 64.656237\n",
      "Epoch 180, loss: 64.578438\n",
      "Epoch 190, loss: 64.506536\n",
      "Epoch 200, loss: 64.440112\n",
      "Val Accuracy: 0.228\n",
      "\n",
      "\n",
      "LR=1e-05, REG=1e-06\n",
      "Epoch 10, loss: 68.379464\n",
      "Epoch 20, loss: 67.787876\n",
      "Epoch 30, loss: 67.298881\n",
      "Epoch 40, loss: 66.890411\n",
      "Epoch 50, loss: 66.546781\n",
      "Epoch 60, loss: 66.252167\n",
      "Epoch 70, loss: 65.998918\n",
      "Epoch 80, loss: 65.779922\n",
      "Epoch 90, loss: 65.592031\n",
      "Epoch 100, loss: 65.426909\n",
      "Epoch 110, loss: 65.279556\n",
      "Epoch 120, loss: 65.146800\n",
      "Epoch 130, loss: 65.030844\n",
      "Epoch 140, loss: 64.924724\n",
      "Epoch 150, loss: 64.826998\n",
      "Epoch 160, loss: 64.736837\n",
      "Epoch 170, loss: 64.653465\n",
      "Epoch 180, loss: 64.577347\n",
      "Epoch 190, loss: 64.505855\n",
      "Epoch 200, loss: 64.440507\n",
      "Val Accuracy: 0.228\n",
      "\n",
      "\n",
      "best validation accuracy achieved: 0.252000\n"
     ]
    }
   ],
   "source": [
    "num_epochs = 200\n",
    "batch_size = 300\n",
    "\n",
    "learning_rates = [1e-3, 1e-4, 1e-5]\n",
    "reg_strengths = [1e-4, 1e-5, 1e-6]\n",
    "\n",
    "best_classifier = None\n",
    "best_val_accuracy = 0\n",
    "\n",
    "# TODO use validation set to find the best hyperparameters\n",
    "for lr in learning_rates:\n",
    "    for reg in reg_strengths:\n",
    "        print(f'LR={lr}, REG={reg}')\n",
    "        clf = linear_classifer.LinearSoftmaxClassifier()\n",
    "        loss_history = clf.fit(train_X, train_y, epochs=num_epochs, learning_rate=lr, batch_size=300, reg=reg)\n",
    "        pred = clf.predict(val_X)\n",
    "        val_accuracy = multiclass_accuracy(pred, val_y)\n",
    "        print(f'Val Accuracy: {val_accuracy}\\n\\n')\n",
    "        if val_accuracy > best_val_accuracy:\n",
    "            best_classifier = clf\n",
    "            best_val_accuracy = val_accuracy\n",
    "# hint: for best results, you might need to try more values for learning rate and regularization strength \n",
    "# than provided initially\n",
    "\n",
    "print('best validation accuracy achieved: %f' % best_val_accuracy)"
   ]
  },
  {
   "cell_type": "markdown",
   "metadata": {},
   "source": [
    "# Какой же точности мы добились на тестовых данных?"
   ]
  },
  {
   "cell_type": "code",
   "execution_count": 168,
   "metadata": {},
   "outputs": [
    {
     "name": "stdout",
     "output_type": "stream",
     "text": [
      "Linear softmax classifier test set accuracy: 0.208000\n"
     ]
    }
   ],
   "source": [
    "test_pred = best_classifier.predict(test_X)\n",
    "# clf1 = linear_classifer.LinearSoftmaxClassifier()\n",
    "# loss_history = clf1.fit(train_X, train_y, epochs=200, learning_rate=0.0001, batch_size=300, reg=0.0001)\n",
    "# test_pred = clf1.predict(test_X)\n",
    "test_accuracy = multiclass_accuracy(test_pred, test_y)\n",
    "print('Linear softmax classifier test set accuracy: %f' % (test_accuracy, ))"
   ]
  }
 ],
 "metadata": {
  "kernelspec": {
   "display_name": "Python 3",
   "language": "python",
   "name": "python3"
  },
  "language_info": {
   "codemirror_mode": {
    "name": "ipython",
    "version": 3
   },
   "file_extension": ".py",
   "mimetype": "text/x-python",
   "name": "python",
   "nbconvert_exporter": "python",
   "pygments_lexer": "ipython3",
   "version": "3.8.10"
  }
 },
 "nbformat": 4,
 "nbformat_minor": 2
}
