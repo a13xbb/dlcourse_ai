{
 "cells": [
  {
   "cell_type": "markdown",
   "metadata": {},
   "source": [
    "# Задание 2.1 - Нейронные сети\n",
    "\n",
    "В этом задании вы реализуете и натренируете настоящую нейроную сеть своими руками!\n",
    "\n",
    "В некотором смысле это будет расширением прошлого задания - нам нужно просто составить несколько линейных классификаторов вместе!\n",
    "\n",
    "<img src=\"https://i.redd.it/n9fgba8b0qr01.png\" alt=\"Stack_more_layers\" width=\"400px\"/>"
   ]
  },
  {
   "cell_type": "code",
   "execution_count": 1,
   "metadata": {},
   "outputs": [],
   "source": [
    "import numpy as np\n",
    "import matplotlib.pyplot as plt\n",
    "\n",
    "%matplotlib inline\n",
    "\n",
    "%load_ext autoreload\n",
    "%autoreload 2"
   ]
  },
  {
   "cell_type": "code",
   "execution_count": 2,
   "metadata": {},
   "outputs": [],
   "source": [
    "from dataset import load_svhn, random_split_train_val\n",
    "from gradient_check import check_layer_gradient, check_layer_param_gradient, check_model_gradient\n",
    "from layers import FullyConnectedLayer, ReLULayer\n",
    "from model import TwoLayerNet\n",
    "from trainer import Trainer, Dataset\n",
    "from optim import SGD, MomentumSGD\n",
    "from metrics import multiclass_accuracy"
   ]
  },
  {
   "cell_type": "markdown",
   "metadata": {},
   "source": [
    "# Загружаем данные\n",
    "\n",
    "И разделяем их на training и validation."
   ]
  },
  {
   "cell_type": "code",
   "execution_count": 3,
   "metadata": {},
   "outputs": [],
   "source": [
    "def prepare_for_neural_network(train_X, test_X):\n",
    "    train_flat = train_X.reshape(train_X.shape[0], -1).astype(float) / 255.0\n",
    "    test_flat = test_X.reshape(test_X.shape[0], -1).astype(float) / 255.0\n",
    "    \n",
    "    # Subtract mean\n",
    "    mean_image = np.mean(train_flat, axis = 0)\n",
    "    train_flat -= mean_image\n",
    "    test_flat -= mean_image\n",
    "    \n",
    "    return train_flat, test_flat\n",
    "    \n",
    "train_X, train_y, test_X, test_y = load_svhn(\"data\", max_train=10000, max_test=1000)    \n",
    "train_X, test_X = prepare_for_neural_network(train_X, test_X)\n",
    "# Split train into train and val\n",
    "train_X, train_y, val_X, val_y = random_split_train_val(train_X, train_y, num_val = 1000)"
   ]
  },
  {
   "cell_type": "markdown",
   "metadata": {},
   "source": [
    "# Как всегда, начинаем с кирпичиков\n",
    "\n",
    "Мы будем реализовывать необходимые нам слои по очереди. Каждый слой должен реализовать:\n",
    "- прямой проход (forward pass), который генерирует выход слоя по входу и запоминает необходимые данные\n",
    "- обратный проход (backward pass), который получает градиент по выходу слоя и вычисляет градиент по входу и по параметрам\n",
    "\n",
    "Начнем с ReLU, у которого параметров нет."
   ]
  },
  {
   "cell_type": "code",
   "execution_count": 4,
   "metadata": {
    "scrolled": false
   },
   "outputs": [
    {
     "name": "stdout",
     "output_type": "stream",
     "text": [
      "Gradient check passed!\n"
     ]
    }
   ],
   "source": [
    "# TODO: Implement ReLULayer layer in layers.py\n",
    "# Note: you'll need to copy implementation of the gradient_check function from the previous assignment\n",
    "\n",
    "X = np.array([[1,-2,3],\n",
    "              [-1, 2, 0.1]\n",
    "              ])\n",
    "\n",
    "assert check_layer_gradient(ReLULayer(), X)"
   ]
  },
  {
   "cell_type": "markdown",
   "metadata": {},
   "source": [
    "А теперь реализуем полносвязный слой (fully connected layer), у которого будет два массива параметров: W (weights) и B (bias).\n",
    "\n",
    "Все параметры наши слои будут использовать для параметров специальный класс `Param`, в котором будут храниться значения параметров и градиенты этих параметров, вычисляемые во время обратного прохода.\n",
    "\n",
    "Это даст возможность аккумулировать (суммировать) градиенты из разных частей функции потерь, например, из cross-entropy loss и regularization loss."
   ]
  },
  {
   "cell_type": "code",
   "execution_count": 5,
   "metadata": {},
   "outputs": [
    {
     "name": "stdout",
     "output_type": "stream",
     "text": [
      "Gradient check passed!\n",
      "Gradient check passed!\n",
      "Gradient check passed!\n"
     ]
    }
   ],
   "source": [
    "# TODO: Implement FullyConnected layer forward and backward methods\n",
    "assert check_layer_gradient(FullyConnectedLayer(3, 4), X)\n",
    "# TODO: Implement storing gradients for W and B\n",
    "assert check_layer_param_gradient(FullyConnectedLayer(3, 4), X, 'W')\n",
    "assert check_layer_param_gradient(FullyConnectedLayer(3, 4), X, 'B')"
   ]
  },
  {
   "cell_type": "markdown",
   "metadata": {},
   "source": [
    "## Создаем нейронную сеть\n",
    "\n",
    "Теперь мы реализуем простейшую нейронную сеть с двумя полносвязным слоями и нелинейностью ReLU. Реализуйте функцию `compute_loss_and_gradients`, она должна запустить прямой и обратный проход через оба слоя для вычисления градиентов.\n",
    "\n",
    "Не забудьте реализовать очистку градиентов в начале функции."
   ]
  },
  {
   "cell_type": "code",
   "execution_count": 6,
   "metadata": {},
   "outputs": [
    {
     "name": "stdout",
     "output_type": "stream",
     "text": [
      "Checking gradient for fc1\n",
      "Gradient check passed!\n",
      "Checking gradient for fc2\n",
      "Gradient check passed!\n"
     ]
    },
    {
     "data": {
      "text/plain": [
       "True"
      ]
     },
     "execution_count": 6,
     "metadata": {},
     "output_type": "execute_result"
    }
   ],
   "source": [
    "# TODO: In model.py, implement compute_loss_and_gradients function\n",
    "model = TwoLayerNet(n_input = train_X.shape[1], n_output = 10, hidden_layer_size = 3, reg = 0)\n",
    "loss = model.compute_loss_and_gradients(train_X[:2], train_y[:2])\n",
    "\n",
    "# TODO Now implement backward pass and aggregate all of the params\n",
    "check_model_gradient(model, train_X[:2], train_y[:2])"
   ]
  },
  {
   "cell_type": "markdown",
   "metadata": {},
   "source": [
    "Теперь добавьте к модели регуляризацию - она должна прибавляться к loss и делать свой вклад в градиенты."
   ]
  },
  {
   "cell_type": "code",
   "execution_count": 7,
   "metadata": {},
   "outputs": [
    {
     "name": "stdout",
     "output_type": "stream",
     "text": [
      "Checking gradient for fc1\n",
      "Gradient check passed!\n",
      "Checking gradient for fc2\n",
      "Gradient check passed!\n"
     ]
    },
    {
     "data": {
      "text/plain": [
       "True"
      ]
     },
     "execution_count": 7,
     "metadata": {},
     "output_type": "execute_result"
    }
   ],
   "source": [
    "# TODO Now implement l2 regularization in the forward and backward pass\n",
    "model_with_reg = TwoLayerNet(n_input = train_X.shape[1], n_output = 10, hidden_layer_size = 3, reg = 1e1)\n",
    "loss_with_reg = model_with_reg.compute_loss_and_gradients(train_X[:2], train_y[:2])\n",
    "assert loss_with_reg > loss and not np.isclose(loss_with_reg, loss), \\\n",
    "    \"Loss with regularization (%2.4f) should be higher than without it (%2.4f)!\" % (loss, loss_with_reg)\n",
    "\n",
    "check_model_gradient(model_with_reg, train_X[:2], train_y[:2])"
   ]
  },
  {
   "cell_type": "markdown",
   "metadata": {},
   "source": [
    "Также реализуем функцию предсказания (вычисления значения) модели на новых данных.\n",
    "\n",
    "Какое значение точности мы ожидаем увидеть до начала тренировки?"
   ]
  },
  {
   "cell_type": "code",
   "execution_count": 8,
   "metadata": {},
   "outputs": [
    {
     "data": {
      "text/plain": [
       "0.1"
      ]
     },
     "execution_count": 8,
     "metadata": {},
     "output_type": "execute_result"
    }
   ],
   "source": [
    "# Finally, implement predict function!\n",
    "\n",
    "# TODO: Implement predict function\n",
    "# What would be the value we expect?\n",
    "multiclass_accuracy(model_with_reg.predict(train_X[:30]), train_y[:30]) "
   ]
  },
  {
   "cell_type": "markdown",
   "metadata": {},
   "source": [
    "# Допишем код для процесса тренировки\n",
    "\n",
    "Если все реализовано корректно, значение функции ошибки должно уменьшаться с каждой эпохой, пусть и медленно. Не беспокойтесь пока про validation accuracy."
   ]
  },
  {
   "cell_type": "code",
   "execution_count": 9,
   "metadata": {},
   "outputs": [
    {
     "name": "stdout",
     "output_type": "stream",
     "text": [
      "Loss: 46.057935, Train accuracy: 0.076889, val accuracy: 0.076000\n",
      "Loss: 46.056012, Train accuracy: 0.076889, val accuracy: 0.076000\n"
     ]
    },
    {
     "ename": "KeyboardInterrupt",
     "evalue": "",
     "output_type": "error",
     "traceback": [
      "\u001b[0;31m---------------------------------------------------------------------------\u001b[0m",
      "\u001b[0;31mKeyboardInterrupt\u001b[0m                         Traceback (most recent call last)",
      "\u001b[1;32m/home/a13xbbb/ML/dlcourse_ai/assignments/assignment2/Neural Network.ipynb Cell 17\u001b[0m line \u001b[0;36m7\n\u001b[1;32m      <a href='vscode-notebook-cell://wsl%2Bubuntu/home/a13xbbb/ML/dlcourse_ai/assignments/assignment2/Neural%20Network.ipynb#X22sdnNjb2RlLXJlbW90ZQ%3D%3D?line=2'>3</a>\u001b[0m trainer \u001b[39m=\u001b[39m Trainer(model, dataset, SGD(), learning_rate \u001b[39m=\u001b[39m \u001b[39m1e-2\u001b[39m)\n\u001b[1;32m      <a href='vscode-notebook-cell://wsl%2Bubuntu/home/a13xbbb/ML/dlcourse_ai/assignments/assignment2/Neural%20Network.ipynb#X22sdnNjb2RlLXJlbW90ZQ%3D%3D?line=4'>5</a>\u001b[0m \u001b[39m# TODO Implement missing pieces in Trainer.fit function\u001b[39;00m\n\u001b[1;32m      <a href='vscode-notebook-cell://wsl%2Bubuntu/home/a13xbbb/ML/dlcourse_ai/assignments/assignment2/Neural%20Network.ipynb#X22sdnNjb2RlLXJlbW90ZQ%3D%3D?line=5'>6</a>\u001b[0m \u001b[39m# You should expect loss to go down every epoch, even if it's slow\u001b[39;00m\n\u001b[0;32m----> <a href='vscode-notebook-cell://wsl%2Bubuntu/home/a13xbbb/ML/dlcourse_ai/assignments/assignment2/Neural%20Network.ipynb#X22sdnNjb2RlLXJlbW90ZQ%3D%3D?line=6'>7</a>\u001b[0m loss_history, train_history, val_history \u001b[39m=\u001b[39m trainer\u001b[39m.\u001b[39;49mfit()\n",
      "File \u001b[0;32m~/ML/dlcourse_ai/assignments/assignment2/trainer.py:104\u001b[0m, in \u001b[0;36mTrainer.fit\u001b[0;34m(self)\u001b[0m\n\u001b[1;32m    102\u001b[0m batch_X \u001b[39m=\u001b[39m \u001b[39mself\u001b[39m\u001b[39m.\u001b[39mdataset\u001b[39m.\u001b[39mtrain_X[batch_indices]\n\u001b[1;32m    103\u001b[0m batch_y \u001b[39m=\u001b[39m \u001b[39mself\u001b[39m\u001b[39m.\u001b[39mdataset\u001b[39m.\u001b[39mtrain_y[batch_indices]\n\u001b[0;32m--> 104\u001b[0m loss \u001b[39m=\u001b[39m \u001b[39mself\u001b[39;49m\u001b[39m.\u001b[39;49mmodel\u001b[39m.\u001b[39;49mcompute_loss_and_gradients(batch_X, batch_y)\n\u001b[1;32m    106\u001b[0m \u001b[39mfor\u001b[39;00m param_name, param \u001b[39min\u001b[39;00m \u001b[39mself\u001b[39m\u001b[39m.\u001b[39mmodel\u001b[39m.\u001b[39mparams()\u001b[39m.\u001b[39mitems():\n\u001b[1;32m    107\u001b[0m     optimizer \u001b[39m=\u001b[39m \u001b[39mself\u001b[39m\u001b[39m.\u001b[39moptimizers[param_name]\n",
      "File \u001b[0;32m~/ML/dlcourse_ai/assignments/assignment2/model.py:45\u001b[0m, in \u001b[0;36mTwoLayerNet.compute_loss_and_gradients\u001b[0;34m(self, X, y)\u001b[0m\n\u001b[1;32m     39\u001b[0m   weights\u001b[39m.\u001b[39mgrad \u001b[39m=\u001b[39m np\u001b[39m.\u001b[39mzeros_like(weights\u001b[39m.\u001b[39mgrad)\n\u001b[1;32m     41\u001b[0m \u001b[39m# TODO Compute loss and fill param gradients\u001b[39;00m\n\u001b[1;32m     42\u001b[0m \u001b[39m# by running forward and backward passes through the model\u001b[39;00m\n\u001b[1;32m     43\u001b[0m \u001b[39m# After that, implement l2 regularization on all params\u001b[39;00m\n\u001b[1;32m     44\u001b[0m \u001b[39m# Hint: self.params() is useful again!\u001b[39;00m\n\u001b[0;32m---> 45\u001b[0m fc1_out \u001b[39m=\u001b[39m \u001b[39mself\u001b[39;49m\u001b[39m.\u001b[39;49mfc1\u001b[39m.\u001b[39;49mforward(X)\n\u001b[1;32m     46\u001b[0m relu_out \u001b[39m=\u001b[39m \u001b[39mself\u001b[39m\u001b[39m.\u001b[39mrelu\u001b[39m.\u001b[39mforward(fc1_out)\n\u001b[1;32m     47\u001b[0m preds \u001b[39m=\u001b[39m \u001b[39mself\u001b[39m\u001b[39m.\u001b[39mfc2\u001b[39m.\u001b[39mforward(relu_out)\n",
      "File \u001b[0;32m~/ML/dlcourse_ai/assignments/assignment2/layers.py:157\u001b[0m, in \u001b[0;36mFullyConnectedLayer.forward\u001b[0;34m(self, X)\u001b[0m\n\u001b[1;32m    153\u001b[0m \u001b[39mdef\u001b[39;00m \u001b[39mforward\u001b[39m(\u001b[39mself\u001b[39m, X):\n\u001b[1;32m    154\u001b[0m     \u001b[39m# TODO: Implement forward pass\u001b[39;00m\n\u001b[1;32m    155\u001b[0m     \u001b[39m# Your final implementation shouldn't have any loops\u001b[39;00m\n\u001b[1;32m    156\u001b[0m     \u001b[39mself\u001b[39m\u001b[39m.\u001b[39mX \u001b[39m=\u001b[39m X\n\u001b[0;32m--> 157\u001b[0m     \u001b[39mreturn\u001b[39;00m np\u001b[39m.\u001b[39;49mdot(\u001b[39mself\u001b[39;49m\u001b[39m.\u001b[39;49mX, \u001b[39mself\u001b[39;49m\u001b[39m.\u001b[39;49mW\u001b[39m.\u001b[39;49mvalue) \u001b[39m+\u001b[39m \u001b[39mself\u001b[39m\u001b[39m.\u001b[39mB\u001b[39m.\u001b[39mvalue\n",
      "\u001b[0;31mKeyboardInterrupt\u001b[0m: "
     ]
    }
   ],
   "source": [
    "model = TwoLayerNet(n_input = train_X.shape[1], n_output = 10, hidden_layer_size = 100, reg = 1e1)\n",
    "dataset = Dataset(train_X, train_y, val_X, val_y)\n",
    "trainer = Trainer(model, dataset, SGD(), learning_rate = 1e-2)\n",
    "\n",
    "# TODO Implement missing pieces in Trainer.fit function\n",
    "# You should expect loss to go down every epoch, even if it's slow\n",
    "loss_history, train_history, val_history = trainer.fit()"
   ]
  },
  {
   "cell_type": "code",
   "execution_count": 10,
   "metadata": {},
   "outputs": [
    {
     "ename": "NameError",
     "evalue": "name 'train_history' is not defined",
     "output_type": "error",
     "traceback": [
      "\u001b[0;31m---------------------------------------------------------------------------\u001b[0m",
      "\u001b[0;31mNameError\u001b[0m                                 Traceback (most recent call last)",
      "\u001b[1;32m/home/a13xbbb/ML/dlcourse_ai/assignments/assignment2/Neural Network.ipynb Cell 18\u001b[0m line \u001b[0;36m1\n\u001b[0;32m----> <a href='vscode-notebook-cell://wsl%2Bubuntu/home/a13xbbb/ML/dlcourse_ai/assignments/assignment2/Neural%20Network.ipynb#X23sdnNjb2RlLXJlbW90ZQ%3D%3D?line=0'>1</a>\u001b[0m plt\u001b[39m.\u001b[39mplot(train_history)\n\u001b[1;32m      <a href='vscode-notebook-cell://wsl%2Bubuntu/home/a13xbbb/ML/dlcourse_ai/assignments/assignment2/Neural%20Network.ipynb#X23sdnNjb2RlLXJlbW90ZQ%3D%3D?line=1'>2</a>\u001b[0m plt\u001b[39m.\u001b[39mplot(val_history)\n",
      "\u001b[0;31mNameError\u001b[0m: name 'train_history' is not defined"
     ]
    }
   ],
   "source": [
    "plt.plot(train_history)\n",
    "plt.plot(val_history)"
   ]
  },
  {
   "cell_type": "markdown",
   "metadata": {},
   "source": [
    "# Улучшаем процесс тренировки\n",
    "\n",
    "Мы реализуем несколько ключевых оптимизаций, необходимых для тренировки современных нейросетей."
   ]
  },
  {
   "cell_type": "markdown",
   "metadata": {},
   "source": [
    "## Уменьшение скорости обучения (learning rate decay)\n",
    "\n",
    "Одна из необходимых оптимизаций во время тренировки нейронных сетей - постепенное уменьшение скорости обучения по мере тренировки.\n",
    "\n",
    "Один из стандартных методов - уменьшение скорости обучения (learning rate) каждые N эпох на коэффициент d (часто называемый decay). Значения N и d, как всегда, являются гиперпараметрами и должны подбираться на основе эффективности на проверочных данных (validation data). \n",
    "\n",
    "В нашем случае N будет равным 1."
   ]
  },
  {
   "cell_type": "code",
   "execution_count": 14,
   "metadata": {},
   "outputs": [
    {
     "name": "stdout",
     "output_type": "stream",
     "text": [
      "Loss: 44.159533, Train accuracy: 0.360778, val accuracy: 0.365000\n"
     ]
    },
    {
     "ename": "KeyboardInterrupt",
     "evalue": "",
     "output_type": "error",
     "traceback": [
      "\u001b[0;31m---------------------------------------------------------------------------\u001b[0m",
      "\u001b[0;31mKeyboardInterrupt\u001b[0m                         Traceback (most recent call last)",
      "\u001b[1;32m/home/a13xbbb/ML/dlcourse_ai/assignments/assignment2/Neural Network.ipynb Cell 21\u001b[0m line \u001b[0;36m9\n\u001b[1;32m      <a href='vscode-notebook-cell://wsl%2Bubuntu/home/a13xbbb/ML/dlcourse_ai/assignments/assignment2/Neural%20Network.ipynb#X26sdnNjb2RlLXJlbW90ZQ%3D%3D?line=5'>6</a>\u001b[0m trainer \u001b[39m=\u001b[39m Trainer(model, dataset, SGD(), learning_rate_decay\u001b[39m=\u001b[39m\u001b[39m0.99\u001b[39m)\n\u001b[1;32m      <a href='vscode-notebook-cell://wsl%2Bubuntu/home/a13xbbb/ML/dlcourse_ai/assignments/assignment2/Neural%20Network.ipynb#X26sdnNjb2RlLXJlbW90ZQ%3D%3D?line=7'>8</a>\u001b[0m initial_learning_rate \u001b[39m=\u001b[39m trainer\u001b[39m.\u001b[39mlearning_rate\n\u001b[0;32m----> <a href='vscode-notebook-cell://wsl%2Bubuntu/home/a13xbbb/ML/dlcourse_ai/assignments/assignment2/Neural%20Network.ipynb#X26sdnNjb2RlLXJlbW90ZQ%3D%3D?line=8'>9</a>\u001b[0m loss_history, train_history, val_history \u001b[39m=\u001b[39m trainer\u001b[39m.\u001b[39;49mfit()\n\u001b[1;32m     <a href='vscode-notebook-cell://wsl%2Bubuntu/home/a13xbbb/ML/dlcourse_ai/assignments/assignment2/Neural%20Network.ipynb#X26sdnNjb2RlLXJlbW90ZQ%3D%3D?line=10'>11</a>\u001b[0m \u001b[39massert\u001b[39;00m trainer\u001b[39m.\u001b[39mlearning_rate \u001b[39m<\u001b[39m initial_learning_rate, \u001b[39m\"\u001b[39m\u001b[39mLearning rate should\u001b[39m\u001b[39m'\u001b[39m\u001b[39mve been reduced\u001b[39m\u001b[39m\"\u001b[39m\n\u001b[1;32m     <a href='vscode-notebook-cell://wsl%2Bubuntu/home/a13xbbb/ML/dlcourse_ai/assignments/assignment2/Neural%20Network.ipynb#X26sdnNjb2RlLXJlbW90ZQ%3D%3D?line=11'>12</a>\u001b[0m \u001b[39massert\u001b[39;00m trainer\u001b[39m.\u001b[39mlearning_rate \u001b[39m>\u001b[39m \u001b[39m0.5\u001b[39m\u001b[39m*\u001b[39minitial_learning_rate, \u001b[39m\"\u001b[39m\u001b[39mLearning rate shouldn\u001b[39m\u001b[39m'\u001b[39m\u001b[39mtve been reduced that much!\u001b[39m\u001b[39m\"\u001b[39m\n",
      "File \u001b[0;32m~/ML/dlcourse_ai/assignments/assignment2/trainer.py:104\u001b[0m, in \u001b[0;36mTrainer.fit\u001b[0;34m(self)\u001b[0m\n\u001b[1;32m    102\u001b[0m batch_X \u001b[39m=\u001b[39m \u001b[39mself\u001b[39m\u001b[39m.\u001b[39mdataset\u001b[39m.\u001b[39mtrain_X[batch_indices]\n\u001b[1;32m    103\u001b[0m batch_y \u001b[39m=\u001b[39m \u001b[39mself\u001b[39m\u001b[39m.\u001b[39mdataset\u001b[39m.\u001b[39mtrain_y[batch_indices]\n\u001b[0;32m--> 104\u001b[0m loss \u001b[39m=\u001b[39m \u001b[39mself\u001b[39;49m\u001b[39m.\u001b[39;49mmodel\u001b[39m.\u001b[39;49mcompute_loss_and_gradients(batch_X, batch_y)\n\u001b[1;32m    106\u001b[0m \u001b[39mfor\u001b[39;00m param_name, param \u001b[39min\u001b[39;00m \u001b[39mself\u001b[39m\u001b[39m.\u001b[39mmodel\u001b[39m.\u001b[39mparams()\u001b[39m.\u001b[39mitems():\n\u001b[1;32m    107\u001b[0m     optimizer \u001b[39m=\u001b[39m \u001b[39mself\u001b[39m\u001b[39m.\u001b[39moptimizers[param_name]\n",
      "File \u001b[0;32m~/ML/dlcourse_ai/assignments/assignment2/model.py:45\u001b[0m, in \u001b[0;36mTwoLayerNet.compute_loss_and_gradients\u001b[0;34m(self, X, y)\u001b[0m\n\u001b[1;32m     39\u001b[0m   weights\u001b[39m.\u001b[39mgrad \u001b[39m=\u001b[39m np\u001b[39m.\u001b[39mzeros_like(weights\u001b[39m.\u001b[39mgrad)\n\u001b[1;32m     41\u001b[0m \u001b[39m# TODO Compute loss and fill param gradients\u001b[39;00m\n\u001b[1;32m     42\u001b[0m \u001b[39m# by running forward and backward passes through the model\u001b[39;00m\n\u001b[1;32m     43\u001b[0m \u001b[39m# After that, implement l2 regularization on all params\u001b[39;00m\n\u001b[1;32m     44\u001b[0m \u001b[39m# Hint: self.params() is useful again!\u001b[39;00m\n\u001b[0;32m---> 45\u001b[0m fc1_out \u001b[39m=\u001b[39m \u001b[39mself\u001b[39;49m\u001b[39m.\u001b[39;49mfc1\u001b[39m.\u001b[39;49mforward(X)\n\u001b[1;32m     46\u001b[0m relu_out \u001b[39m=\u001b[39m \u001b[39mself\u001b[39m\u001b[39m.\u001b[39mrelu\u001b[39m.\u001b[39mforward(fc1_out)\n\u001b[1;32m     47\u001b[0m preds \u001b[39m=\u001b[39m \u001b[39mself\u001b[39m\u001b[39m.\u001b[39mfc2\u001b[39m.\u001b[39mforward(relu_out)\n",
      "File \u001b[0;32m~/ML/dlcourse_ai/assignments/assignment2/layers.py:157\u001b[0m, in \u001b[0;36mFullyConnectedLayer.forward\u001b[0;34m(self, X)\u001b[0m\n\u001b[1;32m    153\u001b[0m \u001b[39mdef\u001b[39;00m \u001b[39mforward\u001b[39m(\u001b[39mself\u001b[39m, X):\n\u001b[1;32m    154\u001b[0m     \u001b[39m# TODO: Implement forward pass\u001b[39;00m\n\u001b[1;32m    155\u001b[0m     \u001b[39m# Your final implementation shouldn't have any loops\u001b[39;00m\n\u001b[1;32m    156\u001b[0m     \u001b[39mself\u001b[39m\u001b[39m.\u001b[39mX \u001b[39m=\u001b[39m X\n\u001b[0;32m--> 157\u001b[0m     \u001b[39mreturn\u001b[39;00m np\u001b[39m.\u001b[39;49mdot(\u001b[39mself\u001b[39;49m\u001b[39m.\u001b[39;49mX, \u001b[39mself\u001b[39;49m\u001b[39m.\u001b[39;49mW\u001b[39m.\u001b[39;49mvalue) \u001b[39m+\u001b[39m \u001b[39mself\u001b[39m\u001b[39m.\u001b[39mB\u001b[39m.\u001b[39mvalue\n",
      "\u001b[0;31mKeyboardInterrupt\u001b[0m: "
     ]
    }
   ],
   "source": [
    "# TODO Implement learning rate decay inside Trainer.fit method\n",
    "# Decay should happen once per epoch\n",
    "\n",
    "model = TwoLayerNet(n_input = train_X.shape[1], n_output = 10, hidden_layer_size = 100, reg = 1e-1)\n",
    "dataset = Dataset(train_X, train_y, val_X, val_y)\n",
    "trainer = Trainer(model, dataset, SGD(), learning_rate_decay=0.99)\n",
    "\n",
    "initial_learning_rate = trainer.learning_rate\n",
    "loss_history, train_history, val_history = trainer.fit()\n",
    "\n",
    "assert trainer.learning_rate < initial_learning_rate, \"Learning rate should've been reduced\"\n",
    "assert trainer.learning_rate > 0.5*initial_learning_rate, \"Learning rate shouldn'tve been reduced that much!\""
   ]
  },
  {
   "cell_type": "markdown",
   "metadata": {},
   "source": [
    "# Накопление импульса (Momentum SGD)\n",
    "\n",
    "Другой большой класс оптимизаций - использование более эффективных методов градиентного спуска. Мы реализуем один из них - накопление импульса (Momentum SGD).\n",
    "\n",
    "Этот метод хранит скорость движения, использует градиент для ее изменения на каждом шаге, и изменяет веса пропорционально значению скорости.\n",
    "(Физическая аналогия: Вместо скорости градиенты теперь будут задавать ускорение, но будет присутствовать сила трения.)\n",
    "\n",
    "```\n",
    "velocity = momentum * velocity - learning_rate * gradient \n",
    "w = w + velocity\n",
    "```\n",
    "\n",
    "`momentum` здесь коэффициент затухания, который тоже является гиперпараметром (к счастью, для него часто есть хорошее значение по умолчанию, типичный диапазон -- 0.8-0.99).\n",
    "\n",
    "Несколько полезных ссылок, где метод разбирается более подробно:  \n",
    "http://cs231n.github.io/neural-networks-3/#sgd  \n",
    "https://distill.pub/2017/momentum/"
   ]
  },
  {
   "cell_type": "code",
   "execution_count": 13,
   "metadata": {},
   "outputs": [
    {
     "name": "stdout",
     "output_type": "stream",
     "text": [
      "Loss: 43.122656, Train accuracy: 0.265000, val accuracy: 0.279000\n",
      "Loss: 44.941173, Train accuracy: 0.340444, val accuracy: 0.367000\n",
      "Loss: 38.309342, Train accuracy: 0.394667, val accuracy: 0.409000\n",
      "Loss: 34.139018, Train accuracy: 0.456889, val accuracy: 0.458000\n",
      "Loss: 33.663717, Train accuracy: 0.500778, val accuracy: 0.506000\n",
      "Loss: 37.779456, Train accuracy: 0.561556, val accuracy: 0.554000\n",
      "Loss: 34.482912, Train accuracy: 0.598556, val accuracy: 0.606000\n",
      "Loss: 29.780847, Train accuracy: 0.614111, val accuracy: 0.616000\n",
      "Loss: 29.086930, Train accuracy: 0.628000, val accuracy: 0.629000\n",
      "Loss: 27.129957, Train accuracy: 0.650222, val accuracy: 0.656000\n",
      "Loss: 28.335502, Train accuracy: 0.668778, val accuracy: 0.656000\n",
      "Loss: 27.452113, Train accuracy: 0.673111, val accuracy: 0.672000\n",
      "Loss: 30.055209, Train accuracy: 0.686333, val accuracy: 0.670000\n",
      "Loss: 29.618748, Train accuracy: 0.698556, val accuracy: 0.685000\n",
      "Loss: 28.295924, Train accuracy: 0.692222, val accuracy: 0.686000\n",
      "Loss: 36.570000, Train accuracy: 0.706889, val accuracy: 0.684000\n",
      "Loss: 25.074098, Train accuracy: 0.702889, val accuracy: 0.701000\n",
      "Loss: 26.555847, Train accuracy: 0.712000, val accuracy: 0.698000\n",
      "Loss: 32.885688, Train accuracy: 0.710222, val accuracy: 0.701000\n",
      "Loss: 20.664227, Train accuracy: 0.720333, val accuracy: 0.706000\n"
     ]
    }
   ],
   "source": [
    "# TODO: Implement MomentumSGD.update function in optim.py\n",
    "\n",
    "model = TwoLayerNet(n_input = train_X.shape[1], n_output = 10, hidden_layer_size = 100, reg = 1e-1)\n",
    "dataset = Dataset(train_X, train_y, val_X, val_y)\n",
    "trainer = Trainer(model, dataset, MomentumSGD(), learning_rate=1e-4, learning_rate_decay=0.99)\n",
    "\n",
    "# You should see even better results than before!\n",
    "loss_history, train_history, val_history = trainer.fit()"
   ]
  },
  {
   "cell_type": "markdown",
   "metadata": {},
   "source": [
    "# Ну что, давайте уже тренировать сеть!"
   ]
  },
  {
   "cell_type": "markdown",
   "metadata": {},
   "source": [
    "## Последний тест - переобучимся (overfit) на маленьком наборе данных\n",
    "\n",
    "Хороший способ проверить, все ли реализовано корректно - переобучить сеть на маленьком наборе данных.  \n",
    "Наша модель обладает достаточной мощностью, чтобы приблизить маленький набор данных идеально, поэтому мы ожидаем, что на нем мы быстро дойдем до 100% точности на тренировочном наборе. \n",
    "\n",
    "Если этого не происходит, то где-то была допущена ошибка!"
   ]
  },
  {
   "cell_type": "code",
   "execution_count": 23,
   "metadata": {},
   "outputs": [
    {
     "name": "stdout",
     "output_type": "stream",
     "text": [
      "Loss: 11.544299, Train accuracy: 0.066667, val accuracy: 0.000000\n",
      "Loss: 11.543044, Train accuracy: 0.133333, val accuracy: 0.000000\n",
      "Loss: 11.541591, Train accuracy: 0.133333, val accuracy: 0.000000\n",
      "Loss: 11.539502, Train accuracy: 0.133333, val accuracy: 0.000000\n",
      "Loss: 11.535954, Train accuracy: 0.266667, val accuracy: 0.000000\n",
      "Loss: 11.535187, Train accuracy: 0.266667, val accuracy: 0.000000\n",
      "Loss: 11.533858, Train accuracy: 0.333333, val accuracy: 0.000000\n",
      "Loss: 11.533911, Train accuracy: 0.333333, val accuracy: 0.000000\n",
      "Loss: 11.508271, Train accuracy: 0.333333, val accuracy: 0.000000\n",
      "Loss: 11.487208, Train accuracy: 0.333333, val accuracy: 0.000000\n",
      "Loss: 11.421490, Train accuracy: 0.333333, val accuracy: 0.000000\n",
      "Loss: 11.506295, Train accuracy: 0.333333, val accuracy: 0.000000\n",
      "Loss: 11.271662, Train accuracy: 0.333333, val accuracy: 0.000000\n",
      "Loss: 11.040268, Train accuracy: 0.333333, val accuracy: 0.000000\n",
      "Loss: 11.346867, Train accuracy: 0.333333, val accuracy: 0.000000\n",
      "Loss: 11.363957, Train accuracy: 0.333333, val accuracy: 0.000000\n",
      "Loss: 10.039082, Train accuracy: 0.333333, val accuracy: 0.000000\n",
      "Loss: 10.878497, Train accuracy: 0.333333, val accuracy: 0.000000\n",
      "Loss: 9.330923, Train accuracy: 0.333333, val accuracy: 0.000000\n",
      "Loss: 9.515007, Train accuracy: 0.333333, val accuracy: 0.000000\n",
      "Loss: 11.039856, Train accuracy: 0.333333, val accuracy: 0.000000\n",
      "Loss: 7.862325, Train accuracy: 0.333333, val accuracy: 0.000000\n",
      "Loss: 7.943597, Train accuracy: 0.333333, val accuracy: 0.000000\n",
      "Loss: 10.983751, Train accuracy: 0.333333, val accuracy: 0.000000\n",
      "Loss: 9.363668, Train accuracy: 0.333333, val accuracy: 0.000000\n",
      "Loss: 5.660152, Train accuracy: 0.333333, val accuracy: 0.000000\n",
      "Loss: 10.087752, Train accuracy: 0.333333, val accuracy: 0.000000\n",
      "Loss: 7.937064, Train accuracy: 0.400000, val accuracy: 0.000000\n",
      "Loss: 6.603151, Train accuracy: 0.400000, val accuracy: 0.000000\n",
      "Loss: 9.333181, Train accuracy: 0.400000, val accuracy: 0.000000\n",
      "Loss: 9.218642, Train accuracy: 0.400000, val accuracy: 0.000000\n",
      "Loss: 10.870464, Train accuracy: 0.400000, val accuracy: 0.000000\n",
      "Loss: 8.972749, Train accuracy: 0.400000, val accuracy: 0.000000\n",
      "Loss: 6.486519, Train accuracy: 0.400000, val accuracy: 0.000000\n",
      "Loss: 6.476824, Train accuracy: 0.400000, val accuracy: 0.000000\n",
      "Loss: 6.255242, Train accuracy: 0.400000, val accuracy: 0.000000\n",
      "Loss: 8.893459, Train accuracy: 0.400000, val accuracy: 0.000000\n",
      "Loss: 8.214743, Train accuracy: 0.466667, val accuracy: 0.000000\n",
      "Loss: 10.669442, Train accuracy: 0.466667, val accuracy: 0.000000\n",
      "Loss: 7.092414, Train accuracy: 0.466667, val accuracy: 0.000000\n",
      "Loss: 8.461405, Train accuracy: 0.466667, val accuracy: 0.000000\n",
      "Loss: 8.084376, Train accuracy: 0.466667, val accuracy: 0.000000\n",
      "Loss: 9.969822, Train accuracy: 0.466667, val accuracy: 0.000000\n",
      "Loss: 7.320101, Train accuracy: 0.466667, val accuracy: 0.000000\n",
      "Loss: 9.050290, Train accuracy: 0.466667, val accuracy: 0.000000\n",
      "Loss: 6.975944, Train accuracy: 0.533333, val accuracy: 0.000000\n",
      "Loss: 9.047595, Train accuracy: 0.533333, val accuracy: 0.000000\n",
      "Loss: 6.475050, Train accuracy: 0.533333, val accuracy: 0.000000\n",
      "Loss: 7.396245, Train accuracy: 0.533333, val accuracy: 0.000000\n",
      "Loss: 5.218453, Train accuracy: 0.600000, val accuracy: 0.000000\n",
      "Loss: 6.642142, Train accuracy: 0.600000, val accuracy: 0.000000\n",
      "Loss: 7.852470, Train accuracy: 0.600000, val accuracy: 0.000000\n",
      "Loss: 8.642174, Train accuracy: 0.600000, val accuracy: 0.000000\n",
      "Loss: 5.895722, Train accuracy: 0.600000, val accuracy: 0.000000\n",
      "Loss: 6.433966, Train accuracy: 0.600000, val accuracy: 0.000000\n",
      "Loss: 7.544889, Train accuracy: 0.600000, val accuracy: 0.000000\n",
      "Loss: 6.313815, Train accuracy: 0.600000, val accuracy: 0.000000\n",
      "Loss: 6.168251, Train accuracy: 0.600000, val accuracy: 0.000000\n",
      "Loss: 1.647508, Train accuracy: 0.600000, val accuracy: 0.000000\n",
      "Loss: 6.611669, Train accuracy: 0.666667, val accuracy: 0.000000\n",
      "Loss: 8.371593, Train accuracy: 0.666667, val accuracy: 0.000000\n",
      "Loss: 4.733154, Train accuracy: 0.666667, val accuracy: 0.000000\n",
      "Loss: 6.112636, Train accuracy: 0.666667, val accuracy: 0.000000\n",
      "Loss: 4.413244, Train accuracy: 0.666667, val accuracy: 0.000000\n",
      "Loss: 1.980503, Train accuracy: 0.666667, val accuracy: 0.000000\n",
      "Loss: 7.532500, Train accuracy: 0.733333, val accuracy: 0.000000\n",
      "Loss: 6.778303, Train accuracy: 0.733333, val accuracy: 0.000000\n",
      "Loss: 4.165304, Train accuracy: 0.666667, val accuracy: 0.000000\n",
      "Loss: 7.912726, Train accuracy: 0.800000, val accuracy: 0.000000\n",
      "Loss: 5.118648, Train accuracy: 0.866667, val accuracy: 0.000000\n",
      "Loss: 6.938107, Train accuracy: 0.866667, val accuracy: 0.000000\n",
      "Loss: 3.571579, Train accuracy: 0.866667, val accuracy: 0.000000\n",
      "Loss: 1.835183, Train accuracy: 0.866667, val accuracy: 0.000000\n",
      "Loss: 3.158810, Train accuracy: 0.866667, val accuracy: 0.000000\n",
      "Loss: 3.367132, Train accuracy: 0.866667, val accuracy: 0.000000\n",
      "Loss: 1.563043, Train accuracy: 0.866667, val accuracy: 0.000000\n",
      "Loss: 6.557140, Train accuracy: 0.866667, val accuracy: 0.000000\n",
      "Loss: 4.445338, Train accuracy: 0.866667, val accuracy: 0.000000\n",
      "Loss: 7.512502, Train accuracy: 0.866667, val accuracy: 0.000000\n",
      "Loss: 7.993901, Train accuracy: 0.866667, val accuracy: 0.000000\n",
      "Loss: 2.053749, Train accuracy: 0.866667, val accuracy: 0.000000\n",
      "Loss: 3.635011, Train accuracy: 0.866667, val accuracy: 0.000000\n",
      "Loss: 5.263993, Train accuracy: 0.866667, val accuracy: 0.000000\n",
      "Loss: 7.079616, Train accuracy: 0.866667, val accuracy: 0.000000\n",
      "Loss: 3.527640, Train accuracy: 0.866667, val accuracy: 0.000000\n",
      "Loss: 2.015086, Train accuracy: 0.866667, val accuracy: 0.000000\n",
      "Loss: 3.530040, Train accuracy: 0.866667, val accuracy: 0.000000\n",
      "Loss: 6.589060, Train accuracy: 0.866667, val accuracy: 0.000000\n",
      "Loss: 1.562341, Train accuracy: 0.866667, val accuracy: 0.000000\n",
      "Loss: 4.762233, Train accuracy: 0.866667, val accuracy: 0.000000\n",
      "Loss: 5.010970, Train accuracy: 0.866667, val accuracy: 0.000000\n",
      "Loss: 6.225300, Train accuracy: 0.866667, val accuracy: 0.000000\n",
      "Loss: 4.766304, Train accuracy: 0.866667, val accuracy: 0.000000\n",
      "Loss: 4.569112, Train accuracy: 0.866667, val accuracy: 0.000000\n",
      "Loss: 3.249884, Train accuracy: 0.866667, val accuracy: 0.000000\n",
      "Loss: 3.160798, Train accuracy: 0.866667, val accuracy: 0.000000\n",
      "Loss: 3.047545, Train accuracy: 0.866667, val accuracy: 0.000000\n",
      "Loss: 2.749633, Train accuracy: 0.866667, val accuracy: 0.000000\n",
      "Loss: 3.024003, Train accuracy: 0.933333, val accuracy: 0.000000\n",
      "Loss: 2.810814, Train accuracy: 0.933333, val accuracy: 0.000000\n",
      "Loss: 2.913144, Train accuracy: 0.933333, val accuracy: 0.000000\n",
      "Loss: 3.806498, Train accuracy: 0.933333, val accuracy: 0.000000\n",
      "Loss: 2.635327, Train accuracy: 0.933333, val accuracy: 0.000000\n",
      "Loss: 2.701425, Train accuracy: 0.933333, val accuracy: 0.000000\n",
      "Loss: 4.115359, Train accuracy: 0.933333, val accuracy: 0.000000\n",
      "Loss: 2.355970, Train accuracy: 0.933333, val accuracy: 0.000000\n",
      "Loss: 4.041309, Train accuracy: 0.933333, val accuracy: 0.000000\n",
      "Loss: 3.163327, Train accuracy: 0.933333, val accuracy: 0.000000\n",
      "Loss: 4.122975, Train accuracy: 0.933333, val accuracy: 0.000000\n",
      "Loss: 2.994715, Train accuracy: 0.933333, val accuracy: 0.000000\n",
      "Loss: 3.471857, Train accuracy: 1.000000, val accuracy: 0.000000\n",
      "Loss: 1.546016, Train accuracy: 1.000000, val accuracy: 0.000000\n",
      "Loss: 2.594863, Train accuracy: 1.000000, val accuracy: 0.000000\n",
      "Loss: 3.696704, Train accuracy: 1.000000, val accuracy: 0.000000\n",
      "Loss: 1.620756, Train accuracy: 1.000000, val accuracy: 0.000000\n",
      "Loss: 3.862096, Train accuracy: 1.000000, val accuracy: 0.000000\n",
      "Loss: 2.044589, Train accuracy: 1.000000, val accuracy: 0.000000\n",
      "Loss: 1.588096, Train accuracy: 1.000000, val accuracy: 0.000000\n",
      "Loss: 1.944343, Train accuracy: 1.000000, val accuracy: 0.000000\n",
      "Loss: 2.940215, Train accuracy: 1.000000, val accuracy: 0.000000\n",
      "Loss: 2.271703, Train accuracy: 1.000000, val accuracy: 0.000000\n",
      "Loss: 2.579897, Train accuracy: 1.000000, val accuracy: 0.000000\n",
      "Loss: 2.516323, Train accuracy: 1.000000, val accuracy: 0.000000\n",
      "Loss: 2.566110, Train accuracy: 1.000000, val accuracy: 0.000000\n",
      "Loss: 2.542736, Train accuracy: 1.000000, val accuracy: 0.000000\n",
      "Loss: 2.505726, Train accuracy: 1.000000, val accuracy: 0.000000\n",
      "Loss: 2.400203, Train accuracy: 1.000000, val accuracy: 0.000000\n",
      "Loss: 2.358840, Train accuracy: 1.000000, val accuracy: 0.000000\n",
      "Loss: 2.526819, Train accuracy: 1.000000, val accuracy: 0.000000\n",
      "Loss: 2.361168, Train accuracy: 1.000000, val accuracy: 0.000000\n",
      "Loss: 2.448916, Train accuracy: 1.000000, val accuracy: 0.000000\n",
      "Loss: 1.837477, Train accuracy: 1.000000, val accuracy: 0.000000\n",
      "Loss: 2.388142, Train accuracy: 1.000000, val accuracy: 0.000000\n",
      "Loss: 2.258102, Train accuracy: 1.000000, val accuracy: 0.000000\n",
      "Loss: 2.610379, Train accuracy: 1.000000, val accuracy: 0.000000\n",
      "Loss: 2.181807, Train accuracy: 1.000000, val accuracy: 0.000000\n",
      "Loss: 1.962011, Train accuracy: 1.000000, val accuracy: 0.000000\n",
      "Loss: 2.305637, Train accuracy: 1.000000, val accuracy: 0.000000\n",
      "Loss: 1.901375, Train accuracy: 1.000000, val accuracy: 0.000000\n",
      "Loss: 2.056499, Train accuracy: 1.000000, val accuracy: 0.000000\n",
      "Loss: 1.802482, Train accuracy: 1.000000, val accuracy: 0.000000\n",
      "Loss: 2.173839, Train accuracy: 1.000000, val accuracy: 0.000000\n",
      "Loss: 2.068769, Train accuracy: 1.000000, val accuracy: 0.000000\n",
      "Loss: 2.082837, Train accuracy: 1.000000, val accuracy: 0.000000\n",
      "Loss: 2.304086, Train accuracy: 1.000000, val accuracy: 0.000000\n",
      "Loss: 2.444384, Train accuracy: 1.000000, val accuracy: 0.000000\n",
      "Loss: 2.071333, Train accuracy: 1.000000, val accuracy: 0.000000\n",
      "Loss: 1.734867, Train accuracy: 1.000000, val accuracy: 0.000000\n",
      "Loss: 2.061793, Train accuracy: 1.000000, val accuracy: 0.000000\n",
      "Loss: 2.101118, Train accuracy: 1.000000, val accuracy: 0.000000\n"
     ]
    }
   ],
   "source": [
    "data_size = 15\n",
    "model = TwoLayerNet(n_input = train_X.shape[1], n_output = 10, hidden_layer_size = 100, reg = 1e-1)\n",
    "dataset = Dataset(train_X[:data_size], train_y[:data_size], val_X[:data_size], val_y[:data_size])\n",
    "trainer = Trainer(model, dataset, SGD(), learning_rate=0.01, num_epochs=150, batch_size=5)\n",
    "\n",
    "# You should expect this to reach 1.0 training accuracy \n",
    "loss_history, train_history, val_history = trainer.fit()"
   ]
  },
  {
   "cell_type": "markdown",
   "metadata": {},
   "source": [
    "Теперь найдем гипепараметры, для которых этот процесс сходится быстрее.\n",
    "Если все реализовано корректно, то существуют параметры, при которых процесс сходится в **20** эпох или еще быстрее.\n",
    "Найдите их!"
   ]
  },
  {
   "cell_type": "code",
   "execution_count": 31,
   "metadata": {},
   "outputs": [
    {
     "name": "stdout",
     "output_type": "stream",
     "text": [
      "Loss: 11.544107, Train accuracy: 0.400000, val accuracy: 0.066667\n",
      "Loss: 11.536773, Train accuracy: 0.333333, val accuracy: 0.000000\n",
      "Loss: 11.562463, Train accuracy: 0.333333, val accuracy: 0.000000\n",
      "Loss: 10.873542, Train accuracy: 0.333333, val accuracy: 0.000000\n",
      "Loss: 8.730453, Train accuracy: 0.333333, val accuracy: 0.000000\n",
      "Loss: 10.746268, Train accuracy: 0.266667, val accuracy: 0.000000\n",
      "Loss: 10.177036, Train accuracy: 0.333333, val accuracy: 0.000000\n",
      "Loss: 6.891935, Train accuracy: 0.333333, val accuracy: 0.066667\n",
      "Loss: 10.268158, Train accuracy: 0.266667, val accuracy: 0.133333\n",
      "Loss: 9.114727, Train accuracy: 0.466667, val accuracy: 0.066667\n",
      "Loss: 6.467652, Train accuracy: 0.533333, val accuracy: 0.000000\n",
      "Loss: 7.192247, Train accuracy: 0.733333, val accuracy: 0.066667\n",
      "Loss: 7.108782, Train accuracy: 0.533333, val accuracy: 0.000000\n",
      "Loss: 7.806620, Train accuracy: 0.666667, val accuracy: 0.000000\n",
      "Loss: 6.048587, Train accuracy: 0.733333, val accuracy: 0.000000\n",
      "Loss: 3.401784, Train accuracy: 0.866667, val accuracy: 0.000000\n",
      "Loss: 5.808986, Train accuracy: 0.866667, val accuracy: 0.000000\n",
      "Loss: 4.762727, Train accuracy: 0.933333, val accuracy: 0.000000\n",
      "Loss: 4.356099, Train accuracy: 1.000000, val accuracy: 0.000000\n",
      "Loss: 4.415311, Train accuracy: 1.000000, val accuracy: 0.000000\n"
     ]
    }
   ],
   "source": [
    "# Now, tweak some hyper parameters and make it train to 1.0 accuracy in 20 epochs or less\n",
    "\n",
    "model = TwoLayerNet(n_input = train_X.shape[1], n_output = 10, hidden_layer_size = 100, reg = 1e-1)\n",
    "dataset = Dataset(train_X[:data_size], train_y[:data_size], val_X[:data_size], val_y[:data_size])\n",
    "# TODO: Change any hyperparamers or optimizators to reach training accuracy in 20 epochs\n",
    "trainer = Trainer(model, dataset, SGD(), learning_rate=0.07, num_epochs=20, batch_size=5)\n",
    "\n",
    "loss_history, train_history, val_history = trainer.fit()"
   ]
  },
  {
   "cell_type": "markdown",
   "metadata": {},
   "source": [
    "# Итак, основное мероприятие!\n",
    "\n",
    "Натренируйте лучшую нейросеть! Можно добавлять и изменять параметры, менять количество нейронов в слоях сети и как угодно экспериментировать. \n",
    "\n",
    "Добейтесь точности лучше **60%** на validation set."
   ]
  },
  {
   "cell_type": "code",
   "execution_count": 36,
   "metadata": {
    "scrolled": true
   },
   "outputs": [
    {
     "name": "stdout",
     "output_type": "stream",
     "text": [
      "Loss: 58.656093, Train accuracy: 0.318222, val accuracy: 0.313000\n",
      "Loss: 59.906384, Train accuracy: 0.402000, val accuracy: 0.392000\n",
      "Loss: 58.606556, Train accuracy: 0.457778, val accuracy: 0.450000\n",
      "Loss: 58.275256, Train accuracy: 0.518889, val accuracy: 0.505000\n",
      "Loss: 46.886357, Train accuracy: 0.529444, val accuracy: 0.505000\n",
      "Loss: 46.514544, Train accuracy: 0.588444, val accuracy: 0.571000\n",
      "Loss: 47.961234, Train accuracy: 0.629444, val accuracy: 0.609000\n",
      "Loss: 39.956502, Train accuracy: 0.643889, val accuracy: 0.621000\n",
      "Loss: 35.527807, Train accuracy: 0.652000, val accuracy: 0.638000\n",
      "Loss: 48.559721, Train accuracy: 0.676222, val accuracy: 0.667000\n",
      "Loss: 37.373064, Train accuracy: 0.689111, val accuracy: 0.669000\n",
      "Loss: 43.185551, Train accuracy: 0.699000, val accuracy: 0.682000\n",
      "Loss: 33.817808, Train accuracy: 0.703667, val accuracy: 0.684000\n",
      "Loss: 44.274338, Train accuracy: 0.719222, val accuracy: 0.693000\n",
      "Loss: 32.616111, Train accuracy: 0.722111, val accuracy: 0.704000\n",
      "Loss: 31.488300, Train accuracy: 0.722444, val accuracy: 0.710000\n",
      "Loss: 40.049652, Train accuracy: 0.732889, val accuracy: 0.709000\n",
      "Loss: 30.045282, Train accuracy: 0.729444, val accuracy: 0.703000\n",
      "Loss: 45.530569, Train accuracy: 0.734556, val accuracy: 0.707000\n",
      "Loss: 40.563589, Train accuracy: 0.744778, val accuracy: 0.713000\n"
     ]
    }
   ],
   "source": [
    "# Let's train the best one-hidden-layer network we can\n",
    "\n",
    "learning_rates = 1e-4\n",
    "reg_strength = 1e-3\n",
    "learning_rate_decay = 0.999\n",
    "hidden_layer_size = 128\n",
    "num_epochs = 200\n",
    "batch_size = 64\n",
    "\n",
    "best_classifier = None\n",
    "best_val_accuracy = None\n",
    "\n",
    "loss_history = []\n",
    "train_history = []\n",
    "val_history = []\n",
    "\n",
    "# TODO find the best hyperparameters to train the network\n",
    "# Don't hesitate to add new values to the arrays above, perform experiments, use any tricks you want\n",
    "# You should expect to get to at least 40% of valudation accuracy\n",
    "# Save loss/train/history of the best classifier to the variables above\n",
    "model = TwoLayerNet(n_input=train_X.shape[1], n_output=10, hidden_layer_size=100, reg=1e-1)\n",
    "dataset = Dataset(train_X, train_y, val_X, val_y)\n",
    "trainer = Trainer(model, dataset, MomentumSGD(), num_epochs=20, batch_size=30, learning_rate=1e-4, learning_rate_decay=0.98)\n",
    "loss_history, train_history, val_history = trainer.fit()\n",
    "\n",
    "# print('best validation accuracy achieved: %f' % best_val_accuracy)"
   ]
  },
  {
   "cell_type": "code",
   "execution_count": 37,
   "metadata": {},
   "outputs": [
    {
     "data": {
      "text/plain": [
       "[<matplotlib.lines.Line2D at 0x7f329c98e080>]"
      ]
     },
     "execution_count": 37,
     "metadata": {},
     "output_type": "execute_result"
    },
    {
     "data": {
      "image/png": "[encoded data removed]",
      "text/plain": [
       "<Figure size 1500x700 with 2 Axes>"
      ]
     },
     "metadata": {},
     "output_type": "display_data"
    }
   ],
   "source": [
    "plt.figure(figsize=(15, 7))\n",
    "plt.subplot(211)\n",
    "plt.title(\"Loss\")\n",
    "plt.plot(loss_history)\n",
    "plt.subplot(212)\n",
    "plt.title(\"Train/validation accuracy\")\n",
    "plt.plot(train_history)\n",
    "plt.plot(val_history)"
   ]
  },
  {
   "cell_type": "markdown",
   "metadata": {},
   "source": [
    "# Как обычно, посмотрим, как наша лучшая модель работает на тестовых данных"
   ]
  },
  {
   "cell_type": "code",
   "execution_count": 38,
   "metadata": {},
   "outputs": [
    {
     "name": "stdout",
     "output_type": "stream",
     "text": [
      "Neural net test set accuracy: 0.673000\n"
     ]
    }
   ],
   "source": [
    "best_classifier = model\n",
    "test_pred = best_classifier.predict(test_X)\n",
    "test_accuracy = multiclass_accuracy(test_pred, test_y)\n",
    "print('Neural net test set accuracy: %f' % (test_accuracy, ))"
   ]
  }
 ],
 "metadata": {
  "kernelspec": {
   "display_name": "Python 3",
   "language": "python",
   "name": "python3"
  },
  "language_info": {
   "codemirror_mode": {
    "name": "ipython",
    "version": 3
   },
   "file_extension": ".py",
   "mimetype": "text/x-python",
   "name": "python",
   "nbconvert_exporter": "python",
   "pygments_lexer": "ipython3",
   "version": "3.10.6"
  }
 },
 "nbformat": 4,
 "nbformat_minor": 2
}
